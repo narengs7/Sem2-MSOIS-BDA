{
 "cells": [
  {
   "cell_type": "code",
   "execution_count": 1,
   "metadata": {},
   "outputs": [
    {
     "data": {
      "text/html": [
       "'data.frame'"
      ],
      "text/latex": [
       "'data.frame'"
      ],
      "text/markdown": [
       "'data.frame'"
      ],
      "text/plain": [
       "[1] \"data.frame\""
      ]
     },
     "metadata": {},
     "output_type": "display_data"
    }
   ],
   "source": [
    "data(mtcars)\n",
    "class(mtcars)"
   ]
  },
  {
   "cell_type": "code",
   "execution_count": 2,
   "metadata": {},
   "outputs": [
    {
     "data": {
      "text/html": [
       "<ol class=list-inline>\n",
       "\t<li>32</li>\n",
       "\t<li>11</li>\n",
       "</ol>\n"
      ],
      "text/latex": [
       "\\begin{enumerate*}\n",
       "\\item 32\n",
       "\\item 11\n",
       "\\end{enumerate*}\n"
      ],
      "text/markdown": [
       "1. 32\n",
       "2. 11\n",
       "\n",
       "\n"
      ],
      "text/plain": [
       "[1] 32 11"
      ]
     },
     "metadata": {},
     "output_type": "display_data"
    }
   ],
   "source": [
    "dim(mtcars) # printing the dimension"
   ]
  },
  {
   "cell_type": "code",
   "execution_count": 3,
   "metadata": {},
   "outputs": [
    {
     "data": {
      "text/html": [
       "<table>\n",
       "<thead><tr><th></th><th scope=col>mpg</th><th scope=col>cyl</th><th scope=col>disp</th><th scope=col>hp</th><th scope=col>drat</th><th scope=col>wt</th><th scope=col>qsec</th><th scope=col>vs</th><th scope=col>am</th><th scope=col>gear</th><th scope=col>carb</th></tr></thead>\n",
       "<tbody>\n",
       "\t<tr><th scope=row>Mazda RX4</th><td>21.0 </td><td>6    </td><td>160  </td><td>110  </td><td>3.90 </td><td>2.620</td><td>16.46</td><td>0    </td><td>1    </td><td>4    </td><td>4    </td></tr>\n",
       "\t<tr><th scope=row>Mazda RX4 Wag</th><td>21.0 </td><td>6    </td><td>160  </td><td>110  </td><td>3.90 </td><td>2.875</td><td>17.02</td><td>0    </td><td>1    </td><td>4    </td><td>4    </td></tr>\n",
       "\t<tr><th scope=row>Datsun 710</th><td>22.8 </td><td>4    </td><td>108  </td><td> 93  </td><td>3.85 </td><td>2.320</td><td>18.61</td><td>1    </td><td>1    </td><td>4    </td><td>1    </td></tr>\n",
       "\t<tr><th scope=row>Hornet 4 Drive</th><td>21.4 </td><td>6    </td><td>258  </td><td>110  </td><td>3.08 </td><td>3.215</td><td>19.44</td><td>1    </td><td>0    </td><td>3    </td><td>1    </td></tr>\n",
       "\t<tr><th scope=row>Hornet Sportabout</th><td>18.7 </td><td>8    </td><td>360  </td><td>175  </td><td>3.15 </td><td>3.440</td><td>17.02</td><td>0    </td><td>0    </td><td>3    </td><td>2    </td></tr>\n",
       "\t<tr><th scope=row>Valiant</th><td>18.1 </td><td>6    </td><td>225  </td><td>105  </td><td>2.76 </td><td>3.460</td><td>20.22</td><td>1    </td><td>0    </td><td>3    </td><td>1    </td></tr>\n",
       "</tbody>\n",
       "</table>\n"
      ],
      "text/latex": [
       "\\begin{tabular}{r|lllllllllll}\n",
       "  & mpg & cyl & disp & hp & drat & wt & qsec & vs & am & gear & carb\\\\\n",
       "\\hline\n",
       "\tMazda RX4 & 21.0  & 6     & 160   & 110   & 3.90  & 2.620 & 16.46 & 0     & 1     & 4     & 4    \\\\\n",
       "\tMazda RX4 Wag & 21.0  & 6     & 160   & 110   & 3.90  & 2.875 & 17.02 & 0     & 1     & 4     & 4    \\\\\n",
       "\tDatsun 710 & 22.8  & 4     & 108   &  93   & 3.85  & 2.320 & 18.61 & 1     & 1     & 4     & 1    \\\\\n",
       "\tHornet 4 Drive & 21.4  & 6     & 258   & 110   & 3.08  & 3.215 & 19.44 & 1     & 0     & 3     & 1    \\\\\n",
       "\tHornet Sportabout & 18.7  & 8     & 360   & 175   & 3.15  & 3.440 & 17.02 & 0     & 0     & 3     & 2    \\\\\n",
       "\tValiant & 18.1  & 6     & 225   & 105   & 2.76  & 3.460 & 20.22 & 1     & 0     & 3     & 1    \\\\\n",
       "\\end{tabular}\n"
      ],
      "text/markdown": [
       "\n",
       "| <!--/--> | mpg | cyl | disp | hp | drat | wt | qsec | vs | am | gear | carb |\n",
       "|---|---|---|---|---|---|---|---|---|---|---|---|\n",
       "| Mazda RX4 | 21.0  | 6     | 160   | 110   | 3.90  | 2.620 | 16.46 | 0     | 1     | 4     | 4     |\n",
       "| Mazda RX4 Wag | 21.0  | 6     | 160   | 110   | 3.90  | 2.875 | 17.02 | 0     | 1     | 4     | 4     |\n",
       "| Datsun 710 | 22.8  | 4     | 108   |  93   | 3.85  | 2.320 | 18.61 | 1     | 1     | 4     | 1     |\n",
       "| Hornet 4 Drive | 21.4  | 6     | 258   | 110   | 3.08  | 3.215 | 19.44 | 1     | 0     | 3     | 1     |\n",
       "| Hornet Sportabout | 18.7  | 8     | 360   | 175   | 3.15  | 3.440 | 17.02 | 0     | 0     | 3     | 2     |\n",
       "| Valiant | 18.1  | 6     | 225   | 105   | 2.76  | 3.460 | 20.22 | 1     | 0     | 3     | 1     |\n",
       "\n"
      ],
      "text/plain": [
       "                  mpg  cyl disp hp  drat wt    qsec  vs am gear carb\n",
       "Mazda RX4         21.0 6   160  110 3.90 2.620 16.46 0  1  4    4   \n",
       "Mazda RX4 Wag     21.0 6   160  110 3.90 2.875 17.02 0  1  4    4   \n",
       "Datsun 710        22.8 4   108   93 3.85 2.320 18.61 1  1  4    1   \n",
       "Hornet 4 Drive    21.4 6   258  110 3.08 3.215 19.44 1  0  3    1   \n",
       "Hornet Sportabout 18.7 8   360  175 3.15 3.440 17.02 0  0  3    2   \n",
       "Valiant           18.1 6   225  105 2.76 3.460 20.22 1  0  3    1   "
      ]
     },
     "metadata": {},
     "output_type": "display_data"
    }
   ],
   "source": [
    "head(mtcars)"
   ]
  },
  {
   "cell_type": "code",
   "execution_count": 4,
   "metadata": {},
   "outputs": [],
   "source": [
    "as.matrix(mtcars)->x"
   ]
  },
  {
   "cell_type": "code",
   "execution_count": 5,
   "metadata": {},
   "outputs": [
    {
     "data": {
      "text/html": [
       "'matrix'"
      ],
      "text/latex": [
       "'matrix'"
      ],
      "text/markdown": [
       "'matrix'"
      ],
      "text/plain": [
       "[1] \"matrix\""
      ]
     },
     "metadata": {},
     "output_type": "display_data"
    }
   ],
   "source": [
    "class(x)"
   ]
  },
  {
   "cell_type": "code",
   "execution_count": 9,
   "metadata": {},
   "outputs": [
    {
     "name": "stdout",
     "output_type": "stream",
     "text": [
      "    Mazda RX4 Mazda RX4 Wag    Datsun 710 \n",
      "     29.90727      29.98136      23.59818 \n",
      "      mpg       cyl      disp \n",
      " 20.09062   6.18750 230.72188 \n"
     ]
    },
    {
     "data": {
      "text/html": [
       "29.9072727272727"
      ],
      "text/latex": [
       "29.9072727272727"
      ],
      "text/markdown": [
       "29.9072727272727"
      ],
      "text/plain": [
       "[1] 29.90727"
      ]
     },
     "metadata": {},
     "output_type": "display_data"
    },
    {
     "data": {
      "text/html": [
       "20.090625"
      ],
      "text/latex": [
       "20.090625"
      ],
      "text/markdown": [
       "20.090625"
      ],
      "text/plain": [
       "[1] 20.09062"
      ]
     },
     "metadata": {},
     "output_type": "display_data"
    },
    {
     "data": {
      "text/html": [
       "19.2"
      ],
      "text/latex": [
       "19.2"
      ],
      "text/markdown": [
       "19.2"
      ],
      "text/plain": [
       "[1] 19.2"
      ]
     },
     "metadata": {},
     "output_type": "display_data"
    },
    {
     "data": {
      "text/html": [
       "<dl class=dl-horizontal>\n",
       "\t<dt>mpg</dt>\n",
       "\t\t<dd>20.090625</dd>\n",
       "\t<dt>cyl</dt>\n",
       "\t\t<dd>6.1875</dd>\n",
       "\t<dt>disp</dt>\n",
       "\t\t<dd>230.721875</dd>\n",
       "\t<dt>hp</dt>\n",
       "\t\t<dd>146.6875</dd>\n",
       "\t<dt>drat</dt>\n",
       "\t\t<dd>3.5965625</dd>\n",
       "\t<dt>wt</dt>\n",
       "\t\t<dd>3.21725</dd>\n",
       "\t<dt>qsec</dt>\n",
       "\t\t<dd>17.84875</dd>\n",
       "\t<dt>vs</dt>\n",
       "\t\t<dd>0.4375</dd>\n",
       "\t<dt>am</dt>\n",
       "\t\t<dd>0.40625</dd>\n",
       "\t<dt>gear</dt>\n",
       "\t\t<dd>3.6875</dd>\n",
       "\t<dt>carb</dt>\n",
       "\t\t<dd>2.8125</dd>\n",
       "</dl>\n"
      ],
      "text/latex": [
       "\\begin{description*}\n",
       "\\item[mpg] 20.090625\n",
       "\\item[cyl] 6.1875\n",
       "\\item[disp] 230.721875\n",
       "\\item[hp] 146.6875\n",
       "\\item[drat] 3.5965625\n",
       "\\item[wt] 3.21725\n",
       "\\item[qsec] 17.84875\n",
       "\\item[vs] 0.4375\n",
       "\\item[am] 0.40625\n",
       "\\item[gear] 3.6875\n",
       "\\item[carb] 2.8125\n",
       "\\end{description*}\n"
      ],
      "text/markdown": [
       "mpg\n",
       ":   20.090625cyl\n",
       ":   6.1875disp\n",
       ":   230.721875hp\n",
       ":   146.6875drat\n",
       ":   3.5965625wt\n",
       ":   3.21725qsec\n",
       ":   17.84875vs\n",
       ":   0.4375am\n",
       ":   0.40625gear\n",
       ":   3.6875carb\n",
       ":   2.8125\n",
       "\n"
      ],
      "text/plain": [
       "       mpg        cyl       disp         hp       drat         wt       qsec \n",
       " 20.090625   6.187500 230.721875 146.687500   3.596563   3.217250  17.848750 \n",
       "        vs         am       gear       carb \n",
       "  0.437500   0.406250   3.687500   2.812500 "
      ]
     },
     "metadata": {},
     "output_type": "display_data"
    }
   ],
   "source": [
    "print(rowMeans(x)[1:3]) # computes row mean of all row wise values\n",
    "print(colMeans(x)[1:3]) # computes column mean of all column wise values\n",
    "mean(x[1,]) # Mean of all values of first row.\n",
    "mean(x[,1]) # average of all values of first column ie., average of mpg\n",
    "median(x[,1]) # Median for first column in the matrix ie., median of mpg\n",
    "apply(x,2,mean) # mean of column wise by specifying 2 in middle value if row wise mean the make it to 1"
   ]
  },
  {
   "cell_type": "code",
   "execution_count": 10,
   "metadata": {},
   "outputs": [
    {
     "data": {
      "text/html": [
       "10.4"
      ],
      "text/latex": [
       "10.4"
      ],
      "text/markdown": [
       "10.4"
      ],
      "text/plain": [
       "[1] 10.4"
      ]
     },
     "metadata": {},
     "output_type": "display_data"
    },
    {
     "data": {
      "text/html": [
       "33.9"
      ],
      "text/latex": [
       "33.9"
      ],
      "text/markdown": [
       "33.9"
      ],
      "text/plain": [
       "[1] 33.9"
      ]
     },
     "metadata": {},
     "output_type": "display_data"
    },
    {
     "data": {
      "text/html": [
       "<ol class=list-inline>\n",
       "\t<li>10.4</li>\n",
       "\t<li>33.9</li>\n",
       "</ol>\n"
      ],
      "text/latex": [
       "\\begin{enumerate*}\n",
       "\\item 10.4\n",
       "\\item 33.9\n",
       "\\end{enumerate*}\n"
      ],
      "text/markdown": [
       "1. 10.4\n",
       "2. 33.9\n",
       "\n",
       "\n"
      ],
      "text/plain": [
       "[1] 10.4 33.9"
      ]
     },
     "metadata": {},
     "output_type": "display_data"
    }
   ],
   "source": [
    "min(x[,1]) # find the minimum value of first column in x\n",
    "max(x[,1]) # find the maximum value of first column in x\n",
    "range(x[,1]) # find max and minium and minimum value for the first row"
   ]
  },
  {
   "cell_type": "code",
   "execution_count": 11,
   "metadata": {},
   "outputs": [
    {
     "data": {
      "text/html": [
       "'data.frame'"
      ],
      "text/latex": [
       "'data.frame'"
      ],
      "text/markdown": [
       "'data.frame'"
      ],
      "text/plain": [
       "[1] \"data.frame\""
      ]
     },
     "metadata": {},
     "output_type": "display_data"
    }
   ],
   "source": [
    "class(read.csv('mtcar.csv'))"
   ]
  },
  {
   "cell_type": "code",
   "execution_count": 12,
   "metadata": {},
   "outputs": [
    {
     "data": {
      "text/html": [
       "2"
      ],
      "text/latex": [
       "2"
      ],
      "text/markdown": [
       "2"
      ],
      "text/plain": [
       "[1] 2"
      ]
     },
     "metadata": {},
     "output_type": "display_data"
    }
   ],
   "source": [
    "a = c(1,2,3)\n",
    "mean(a[2])"
   ]
  },
  {
   "cell_type": "code",
   "execution_count": 13,
   "metadata": {},
   "outputs": [
    {
     "data": {
      "text/html": [
       "<dl class=dl-horizontal>\n",
       "\t<dt>mpg</dt>\n",
       "\t\t<dd>6.0269480520891</dd>\n",
       "\t<dt>cyl</dt>\n",
       "\t\t<dd>1.78592164694654</dd>\n",
       "\t<dt>disp</dt>\n",
       "\t\t<dd>123.938693831382</dd>\n",
       "\t<dt>hp</dt>\n",
       "\t\t<dd>68.5628684893206</dd>\n",
       "\t<dt>drat</dt>\n",
       "\t\t<dd>0.534678736070971</dd>\n",
       "\t<dt>wt</dt>\n",
       "\t\t<dd>0.978457442989697</dd>\n",
       "\t<dt>qsec</dt>\n",
       "\t\t<dd>1.78694323609684</dd>\n",
       "\t<dt>vs</dt>\n",
       "\t\t<dd>0.504016128774185</dd>\n",
       "\t<dt>am</dt>\n",
       "\t\t<dd>0.498990917235846</dd>\n",
       "\t<dt>gear</dt>\n",
       "\t\t<dd>0.737804065256947</dd>\n",
       "\t<dt>carb</dt>\n",
       "\t\t<dd>1.61519997763185</dd>\n",
       "</dl>\n"
      ],
      "text/latex": [
       "\\begin{description*}\n",
       "\\item[mpg] 6.0269480520891\n",
       "\\item[cyl] 1.78592164694654\n",
       "\\item[disp] 123.938693831382\n",
       "\\item[hp] 68.5628684893206\n",
       "\\item[drat] 0.534678736070971\n",
       "\\item[wt] 0.978457442989697\n",
       "\\item[qsec] 1.78694323609684\n",
       "\\item[vs] 0.504016128774185\n",
       "\\item[am] 0.498990917235846\n",
       "\\item[gear] 0.737804065256947\n",
       "\\item[carb] 1.61519997763185\n",
       "\\end{description*}\n"
      ],
      "text/markdown": [
       "mpg\n",
       ":   6.0269480520891cyl\n",
       ":   1.78592164694654disp\n",
       ":   123.938693831382hp\n",
       ":   68.5628684893206drat\n",
       ":   0.534678736070971wt\n",
       ":   0.978457442989697qsec\n",
       ":   1.78694323609684vs\n",
       ":   0.504016128774185am\n",
       ":   0.498990917235846gear\n",
       ":   0.737804065256947carb\n",
       ":   1.61519997763185\n",
       "\n"
      ],
      "text/plain": [
       "        mpg         cyl        disp          hp        drat          wt \n",
       "  6.0269481   1.7859216 123.9386938  68.5628685   0.5346787   0.9784574 \n",
       "       qsec          vs          am        gear        carb \n",
       "  1.7869432   0.5040161   0.4989909   0.7378041   1.6152000 "
      ]
     },
     "metadata": {},
     "output_type": "display_data"
    }
   ],
   "source": [
    "apply(x,2,sd)"
   ]
  },
  {
   "cell_type": "code",
   "execution_count": 15,
   "metadata": {},
   "outputs": [],
   "source": [
    "cov(x) -> S"
   ]
  },
  {
   "cell_type": "code",
   "execution_count": 16,
   "metadata": {},
   "outputs": [
    {
     "data": {
      "text/html": [
       "<ol class=list-inline>\n",
       "\t<li>11</li>\n",
       "\t<li>11</li>\n",
       "</ol>\n"
      ],
      "text/latex": [
       "\\begin{enumerate*}\n",
       "\\item 11\n",
       "\\item 11\n",
       "\\end{enumerate*}\n"
      ],
      "text/markdown": [
       "1. 11\n",
       "2. 11\n",
       "\n",
       "\n"
      ],
      "text/plain": [
       "[1] 11 11"
      ]
     },
     "metadata": {},
     "output_type": "display_data"
    }
   ],
   "source": [
    "dim(S)"
   ]
  },
  {
   "cell_type": "code",
   "execution_count": 17,
   "metadata": {},
   "outputs": [
    {
     "data": {
      "text/html": [
       "36.3241028225806"
      ],
      "text/latex": [
       "36.3241028225806"
      ],
      "text/markdown": [
       "36.3241028225806"
      ],
      "text/plain": [
       "[1] 36.3241"
      ]
     },
     "metadata": {},
     "output_type": "display_data"
    }
   ],
   "source": [
    "S[1,1]"
   ]
  },
  {
   "cell_type": "code",
   "execution_count": 24,
   "metadata": {},
   "outputs": [
    {
     "data": {
      "text/html": [
       "36.3241028225806"
      ],
      "text/latex": [
       "36.3241028225806"
      ],
      "text/markdown": [
       "36.3241028225806"
      ],
      "text/plain": [
       "[1] 36.3241"
      ]
     },
     "metadata": {},
     "output_type": "display_data"
    }
   ],
   "source": [
    "var(x[,1])"
   ]
  },
  {
   "cell_type": "code",
   "execution_count": 29,
   "metadata": {},
   "outputs": [
    {
     "data": {
      "text/html": [],
      "text/latex": [],
      "text/markdown": [],
      "text/plain": [
       "integer(0)"
      ]
     },
     "metadata": {},
     "output_type": "display_data"
    }
   ],
   "source": [
    "dim(x)"
   ]
  },
  {
   "cell_type": "code",
   "execution_count": 82,
   "metadata": {},
   "outputs": [
    {
     "data": {
      "text/html": [
       "<table>\n",
       "<thead><tr><th></th><th scope=col>mpg</th><th scope=col>cyl</th><th scope=col>disp</th><th scope=col>hp</th><th scope=col>drat</th><th scope=col>wt</th><th scope=col>qsec</th><th scope=col>vs</th><th scope=col>am</th><th scope=col>gear</th><th scope=col>carb</th></tr></thead>\n",
       "<tbody>\n",
       "\t<tr><th scope=row>mpg</th><td>  36.324103 </td><td> -9.1723790 </td><td> -633.09721 </td><td>-320.732056 </td><td>  2.19506351</td><td> -5.1166847 </td><td>  4.50914919</td><td>  2.01713710</td><td>  1.80393145</td><td>  2.1356855 </td><td>-5.36310484 </td></tr>\n",
       "\t<tr><th scope=row>cyl</th><td>  -9.172379 </td><td>  3.1895161 </td><td>  199.66028 </td><td> 101.931452 </td><td> -0.66836694</td><td>  1.3673710 </td><td> -1.88685484</td><td> -0.72983871</td><td> -0.46572581</td><td> -0.6491935 </td><td> 1.52016129 </td></tr>\n",
       "\t<tr><th scope=row>disp</th><td>-633.097208 </td><td>199.6602823 </td><td>15360.79983 </td><td>6721.158669 </td><td>-47.06401915</td><td>107.6842040 </td><td>-96.05168145</td><td>-44.37762097</td><td>-36.56401210</td><td>-50.8026210 </td><td>79.06875000 </td></tr>\n",
       "\t<tr><th scope=row>hp</th><td>-320.732056 </td><td>101.9314516 </td><td> 6721.15867 </td><td>4700.866935 </td><td>-16.45110887</td><td> 44.1926613 </td><td>-86.77008065</td><td>-24.98790323</td><td> -8.32056452</td><td> -6.3588710 </td><td>83.03629032 </td></tr>\n",
       "\t<tr><th scope=row>drat</th><td>   2.195064 </td><td> -0.6683669 </td><td>  -47.06402 </td><td> -16.451109 </td><td>  0.28588135</td><td> -0.3727207 </td><td>  0.08714073</td><td>  0.11864919</td><td>  0.19015121</td><td>  0.2759879 </td><td>-0.07840726 </td></tr>\n",
       "\t<tr><th scope=row>wt</th><td>  -5.116685 </td><td>  1.3673710 </td><td>  107.68420 </td><td>  44.192661 </td><td> -0.37272073</td><td>  0.9573790 </td><td> -0.30548161</td><td> -0.27366129</td><td> -0.33810484</td><td> -0.4210806 </td><td> 0.67579032 </td></tr>\n",
       "\t<tr><th scope=row>qsec</th><td>   4.509149 </td><td> -1.8868548 </td><td>  -96.05168 </td><td> -86.770081 </td><td>  0.08714073</td><td> -0.3054816 </td><td>  3.19316613</td><td>  0.67056452</td><td> -0.20495968</td><td> -0.2804032 </td><td>-1.89411290 </td></tr>\n",
       "\t<tr><th scope=row>vs</th><td>   2.017137 </td><td> -0.7298387 </td><td>  -44.37762 </td><td> -24.987903 </td><td>  0.11864919</td><td> -0.2736613 </td><td>  0.67056452</td><td>  0.25403226</td><td>  0.04233871</td><td>  0.0766129 </td><td>-0.46370968 </td></tr>\n",
       "\t<tr><th scope=row>am</th><td>   1.803931 </td><td> -0.4657258 </td><td>  -36.56401 </td><td>  -8.320565 </td><td>  0.19015121</td><td> -0.3381048 </td><td> -0.20495968</td><td>  0.04233871</td><td>  0.24899194</td><td>  0.2923387 </td><td> 0.04637097 </td></tr>\n",
       "\t<tr><th scope=row>gear</th><td>   2.135685 </td><td> -0.6491935 </td><td>  -50.80262 </td><td>  -6.358871 </td><td>  0.27598790</td><td> -0.4210806 </td><td> -0.28040323</td><td>  0.07661290</td><td>  0.29233871</td><td>  0.5443548 </td><td> 0.32661290 </td></tr>\n",
       "\t<tr><th scope=row>carb</th><td>  -5.363105 </td><td>  1.5201613 </td><td>   79.06875 </td><td>  83.036290 </td><td> -0.07840726</td><td>  0.6757903 </td><td> -1.89411290</td><td> -0.46370968</td><td>  0.04637097</td><td>  0.3266129 </td><td> 2.60887097 </td></tr>\n",
       "</tbody>\n",
       "</table>\n"
      ],
      "text/latex": [
       "\\begin{tabular}{r|lllllllllll}\n",
       "  & mpg & cyl & disp & hp & drat & wt & qsec & vs & am & gear & carb\\\\\n",
       "\\hline\n",
       "\tmpg &   36.324103  &  -9.1723790  &  -633.09721  & -320.732056  &   2.19506351 &  -5.1166847  &   4.50914919 &   2.01713710 &   1.80393145 &   2.1356855  & -5.36310484 \\\\\n",
       "\tcyl &   -9.172379  &   3.1895161  &   199.66028  &  101.931452  &  -0.66836694 &   1.3673710  &  -1.88685484 &  -0.72983871 &  -0.46572581 &  -0.6491935  &  1.52016129 \\\\\n",
       "\tdisp & -633.097208  & 199.6602823  & 15360.79983  & 6721.158669  & -47.06401915 & 107.6842040  & -96.05168145 & -44.37762097 & -36.56401210 & -50.8026210  & 79.06875000 \\\\\n",
       "\thp & -320.732056  & 101.9314516  &  6721.15867  & 4700.866935  & -16.45110887 &  44.1926613  & -86.77008065 & -24.98790323 &  -8.32056452 &  -6.3588710  & 83.03629032 \\\\\n",
       "\tdrat &    2.195064  &  -0.6683669  &   -47.06402  &  -16.451109  &   0.28588135 &  -0.3727207  &   0.08714073 &   0.11864919 &   0.19015121 &   0.2759879  & -0.07840726 \\\\\n",
       "\twt &   -5.116685  &   1.3673710  &   107.68420  &   44.192661  &  -0.37272073 &   0.9573790  &  -0.30548161 &  -0.27366129 &  -0.33810484 &  -0.4210806  &  0.67579032 \\\\\n",
       "\tqsec &    4.509149  &  -1.8868548  &   -96.05168  &  -86.770081  &   0.08714073 &  -0.3054816  &   3.19316613 &   0.67056452 &  -0.20495968 &  -0.2804032  & -1.89411290 \\\\\n",
       "\tvs &    2.017137  &  -0.7298387  &   -44.37762  &  -24.987903  &   0.11864919 &  -0.2736613  &   0.67056452 &   0.25403226 &   0.04233871 &   0.0766129  & -0.46370968 \\\\\n",
       "\tam &    1.803931  &  -0.4657258  &   -36.56401  &   -8.320565  &   0.19015121 &  -0.3381048  &  -0.20495968 &   0.04233871 &   0.24899194 &   0.2923387  &  0.04637097 \\\\\n",
       "\tgear &    2.135685  &  -0.6491935  &   -50.80262  &   -6.358871  &   0.27598790 &  -0.4210806  &  -0.28040323 &   0.07661290 &   0.29233871 &   0.5443548  &  0.32661290 \\\\\n",
       "\tcarb &   -5.363105  &   1.5201613  &    79.06875  &   83.036290  &  -0.07840726 &   0.6757903  &  -1.89411290 &  -0.46370968 &   0.04637097 &   0.3266129  &  2.60887097 \\\\\n",
       "\\end{tabular}\n"
      ],
      "text/markdown": [
       "\n",
       "| <!--/--> | mpg | cyl | disp | hp | drat | wt | qsec | vs | am | gear | carb |\n",
       "|---|---|---|---|---|---|---|---|---|---|---|---|\n",
       "| mpg |   36.324103  |  -9.1723790  |  -633.09721  | -320.732056  |   2.19506351 |  -5.1166847  |   4.50914919 |   2.01713710 |   1.80393145 |   2.1356855  | -5.36310484  |\n",
       "| cyl |   -9.172379  |   3.1895161  |   199.66028  |  101.931452  |  -0.66836694 |   1.3673710  |  -1.88685484 |  -0.72983871 |  -0.46572581 |  -0.6491935  |  1.52016129  |\n",
       "| disp | -633.097208  | 199.6602823  | 15360.79983  | 6721.158669  | -47.06401915 | 107.6842040  | -96.05168145 | -44.37762097 | -36.56401210 | -50.8026210  | 79.06875000  |\n",
       "| hp | -320.732056  | 101.9314516  |  6721.15867  | 4700.866935  | -16.45110887 |  44.1926613  | -86.77008065 | -24.98790323 |  -8.32056452 |  -6.3588710  | 83.03629032  |\n",
       "| drat |    2.195064  |  -0.6683669  |   -47.06402  |  -16.451109  |   0.28588135 |  -0.3727207  |   0.08714073 |   0.11864919 |   0.19015121 |   0.2759879  | -0.07840726  |\n",
       "| wt |   -5.116685  |   1.3673710  |   107.68420  |   44.192661  |  -0.37272073 |   0.9573790  |  -0.30548161 |  -0.27366129 |  -0.33810484 |  -0.4210806  |  0.67579032  |\n",
       "| qsec |    4.509149  |  -1.8868548  |   -96.05168  |  -86.770081  |   0.08714073 |  -0.3054816  |   3.19316613 |   0.67056452 |  -0.20495968 |  -0.2804032  | -1.89411290  |\n",
       "| vs |    2.017137  |  -0.7298387  |   -44.37762  |  -24.987903  |   0.11864919 |  -0.2736613  |   0.67056452 |   0.25403226 |   0.04233871 |   0.0766129  | -0.46370968  |\n",
       "| am |    1.803931  |  -0.4657258  |   -36.56401  |   -8.320565  |   0.19015121 |  -0.3381048  |  -0.20495968 |   0.04233871 |   0.24899194 |   0.2923387  |  0.04637097  |\n",
       "| gear |    2.135685  |  -0.6491935  |   -50.80262  |   -6.358871  |   0.27598790 |  -0.4210806  |  -0.28040323 |   0.07661290 |   0.29233871 |   0.5443548  |  0.32661290  |\n",
       "| carb |   -5.363105  |   1.5201613  |    79.06875  |   83.036290  |  -0.07840726 |   0.6757903  |  -1.89411290 |  -0.46370968 |   0.04637097 |   0.3266129  |  2.60887097  |\n",
       "\n"
      ],
      "text/plain": [
       "     mpg         cyl         disp        hp          drat         wt         \n",
       "mpg    36.324103  -9.1723790  -633.09721 -320.732056   2.19506351  -5.1166847\n",
       "cyl    -9.172379   3.1895161   199.66028  101.931452  -0.66836694   1.3673710\n",
       "disp -633.097208 199.6602823 15360.79983 6721.158669 -47.06401915 107.6842040\n",
       "hp   -320.732056 101.9314516  6721.15867 4700.866935 -16.45110887  44.1926613\n",
       "drat    2.195064  -0.6683669   -47.06402  -16.451109   0.28588135  -0.3727207\n",
       "wt     -5.116685   1.3673710   107.68420   44.192661  -0.37272073   0.9573790\n",
       "qsec    4.509149  -1.8868548   -96.05168  -86.770081   0.08714073  -0.3054816\n",
       "vs      2.017137  -0.7298387   -44.37762  -24.987903   0.11864919  -0.2736613\n",
       "am      1.803931  -0.4657258   -36.56401   -8.320565   0.19015121  -0.3381048\n",
       "gear    2.135685  -0.6491935   -50.80262   -6.358871   0.27598790  -0.4210806\n",
       "carb   -5.363105   1.5201613    79.06875   83.036290  -0.07840726   0.6757903\n",
       "     qsec         vs           am           gear        carb       \n",
       "mpg    4.50914919   2.01713710   1.80393145   2.1356855 -5.36310484\n",
       "cyl   -1.88685484  -0.72983871  -0.46572581  -0.6491935  1.52016129\n",
       "disp -96.05168145 -44.37762097 -36.56401210 -50.8026210 79.06875000\n",
       "hp   -86.77008065 -24.98790323  -8.32056452  -6.3588710 83.03629032\n",
       "drat   0.08714073   0.11864919   0.19015121   0.2759879 -0.07840726\n",
       "wt    -0.30548161  -0.27366129  -0.33810484  -0.4210806  0.67579032\n",
       "qsec   3.19316613   0.67056452  -0.20495968  -0.2804032 -1.89411290\n",
       "vs     0.67056452   0.25403226   0.04233871   0.0766129 -0.46370968\n",
       "am    -0.20495968   0.04233871   0.24899194   0.2923387  0.04637097\n",
       "gear  -0.28040323   0.07661290   0.29233871   0.5443548  0.32661290\n",
       "carb  -1.89411290  -0.46370968   0.04637097   0.3266129  2.60887097"
      ]
     },
     "metadata": {},
     "output_type": "display_data"
    }
   ],
   "source": [
    "cov(x)"
   ]
  },
  {
   "cell_type": "code",
   "execution_count": 78,
   "metadata": {},
   "outputs": [
    {
     "data": {
      "text/html": [
       "<dl class=dl-horizontal>\n",
       "\t<dt>mpg</dt>\n",
       "\t\t<dd>4.44089209850063e-16</dd>\n",
       "\t<dt>cyl</dt>\n",
       "\t\t<dd>0</dd>\n",
       "\t<dt>disp</dt>\n",
       "\t\t<dd>-1.19904086659517e-14</dd>\n",
       "\t<dt>hp</dt>\n",
       "\t\t<dd>0</dd>\n",
       "\t<dt>drat</dt>\n",
       "\t\t<dd>-1.52655665885959e-16</dd>\n",
       "\t<dt>wt</dt>\n",
       "\t\t<dd>3.46944695195361e-17</dd>\n",
       "\t<dt>qsec</dt>\n",
       "\t\t<dd>9.43689570931383e-16</dd>\n",
       "\t<dt>vs</dt>\n",
       "\t\t<dd>0</dd>\n",
       "\t<dt>am</dt>\n",
       "\t\t<dd>0</dd>\n",
       "\t<dt>gear</dt>\n",
       "\t\t<dd>0</dd>\n",
       "\t<dt>carb</dt>\n",
       "\t\t<dd>0</dd>\n",
       "</dl>\n"
      ],
      "text/latex": [
       "\\begin{description*}\n",
       "\\item[mpg] 4.44089209850063e-16\n",
       "\\item[cyl] 0\n",
       "\\item[disp] -1.19904086659517e-14\n",
       "\\item[hp] 0\n",
       "\\item[drat] -1.52655665885959e-16\n",
       "\\item[wt] 3.46944695195361e-17\n",
       "\\item[qsec] 9.43689570931383e-16\n",
       "\\item[vs] 0\n",
       "\\item[am] 0\n",
       "\\item[gear] 0\n",
       "\\item[carb] 0\n",
       "\\end{description*}\n"
      ],
      "text/markdown": [
       "mpg\n",
       ":   4.44089209850063e-16cyl\n",
       ":   0disp\n",
       ":   -1.19904086659517e-14hp\n",
       ":   0drat\n",
       ":   -1.52655665885959e-16wt\n",
       ":   3.46944695195361e-17qsec\n",
       ":   9.43689570931383e-16vs\n",
       ":   0am\n",
       ":   0gear\n",
       ":   0carb\n",
       ":   0\n",
       "\n"
      ],
      "text/plain": [
       "          mpg           cyl          disp            hp          drat \n",
       " 4.440892e-16  0.000000e+00 -1.199041e-14  0.000000e+00 -1.526557e-16 \n",
       "           wt          qsec            vs            am          gear \n",
       " 3.469447e-17  9.436896e-16  0.000000e+00  0.000000e+00  0.000000e+00 \n",
       "         carb \n",
       " 0.000000e+00 "
      ]
     },
     "metadata": {},
     "output_type": "display_data"
    }
   ],
   "source": [
    "Xc = apply(x,2,function(cols) cols-mean(cols))\n",
    "apply(Xc,2,mean)"
   ]
  },
  {
   "cell_type": "code",
   "execution_count": 80,
   "metadata": {},
   "outputs": [
    {
     "data": {
      "text/html": [
       "<table>\n",
       "<thead><tr><th></th><th scope=col>mpg</th><th scope=col>cyl</th><th scope=col>disp</th><th scope=col>hp</th><th scope=col>drat</th><th scope=col>wt</th><th scope=col>qsec</th><th scope=col>vs</th><th scope=col>am</th><th scope=col>gear</th><th scope=col>carb</th></tr></thead>\n",
       "<tbody>\n",
       "\t<tr><th scope=row>Mazda RX4</th><td> 0.909375  </td><td>-0.1875    </td><td> -70.721875</td><td>-36.6875   </td><td> 0.3034375 </td><td>-0.59725   </td><td>-1.38875   </td><td>-0.4375    </td><td> 0.59375   </td><td> 0.3125    </td><td> 1.1875    </td></tr>\n",
       "\t<tr><th scope=row>Mazda RX4 Wag</th><td> 0.909375  </td><td>-0.1875    </td><td> -70.721875</td><td>-36.6875   </td><td> 0.3034375 </td><td>-0.34225   </td><td>-0.82875   </td><td>-0.4375    </td><td> 0.59375   </td><td> 0.3125    </td><td> 1.1875    </td></tr>\n",
       "\t<tr><th scope=row>Datsun 710</th><td> 2.709375  </td><td>-2.1875    </td><td>-122.721875</td><td>-53.6875   </td><td> 0.2534375 </td><td>-0.89725   </td><td> 0.76125   </td><td> 0.5625    </td><td> 0.59375   </td><td> 0.3125    </td><td>-1.8125    </td></tr>\n",
       "\t<tr><th scope=row>Hornet 4 Drive</th><td> 1.309375  </td><td>-0.1875    </td><td>  27.278125</td><td>-36.6875   </td><td>-0.5165625 </td><td>-0.00225   </td><td> 1.59125   </td><td> 0.5625    </td><td>-0.40625   </td><td>-0.6875    </td><td>-1.8125    </td></tr>\n",
       "\t<tr><th scope=row>Hornet Sportabout</th><td>-1.390625  </td><td> 1.8125    </td><td> 129.278125</td><td> 28.3125   </td><td>-0.4465625 </td><td> 0.22275   </td><td>-0.82875   </td><td>-0.4375    </td><td>-0.40625   </td><td>-0.6875    </td><td>-0.8125    </td></tr>\n",
       "\t<tr><th scope=row>Valiant</th><td>-1.990625  </td><td>-0.1875    </td><td>  -5.721875</td><td>-41.6875   </td><td>-0.8365625 </td><td> 0.24275   </td><td> 2.37125   </td><td> 0.5625    </td><td>-0.40625   </td><td>-0.6875    </td><td>-1.8125    </td></tr>\n",
       "</tbody>\n",
       "</table>\n"
      ],
      "text/latex": [
       "\\begin{tabular}{r|lllllllllll}\n",
       "  & mpg & cyl & disp & hp & drat & wt & qsec & vs & am & gear & carb\\\\\n",
       "\\hline\n",
       "\tMazda RX4 &  0.909375   & -0.1875     &  -70.721875 & -36.6875    &  0.3034375  & -0.59725    & -1.38875    & -0.4375     &  0.59375    &  0.3125     &  1.1875    \\\\\n",
       "\tMazda RX4 Wag &  0.909375   & -0.1875     &  -70.721875 & -36.6875    &  0.3034375  & -0.34225    & -0.82875    & -0.4375     &  0.59375    &  0.3125     &  1.1875    \\\\\n",
       "\tDatsun 710 &  2.709375   & -2.1875     & -122.721875 & -53.6875    &  0.2534375  & -0.89725    &  0.76125    &  0.5625     &  0.59375    &  0.3125     & -1.8125    \\\\\n",
       "\tHornet 4 Drive &  1.309375   & -0.1875     &   27.278125 & -36.6875    & -0.5165625  & -0.00225    &  1.59125    &  0.5625     & -0.40625    & -0.6875     & -1.8125    \\\\\n",
       "\tHornet Sportabout & -1.390625   &  1.8125     &  129.278125 &  28.3125    & -0.4465625  &  0.22275    & -0.82875    & -0.4375     & -0.40625    & -0.6875     & -0.8125    \\\\\n",
       "\tValiant & -1.990625   & -0.1875     &   -5.721875 & -41.6875    & -0.8365625  &  0.24275    &  2.37125    &  0.5625     & -0.40625    & -0.6875     & -1.8125    \\\\\n",
       "\\end{tabular}\n"
      ],
      "text/markdown": [
       "\n",
       "| <!--/--> | mpg | cyl | disp | hp | drat | wt | qsec | vs | am | gear | carb |\n",
       "|---|---|---|---|---|---|---|---|---|---|---|---|\n",
       "| Mazda RX4 |  0.909375   | -0.1875     |  -70.721875 | -36.6875    |  0.3034375  | -0.59725    | -1.38875    | -0.4375     |  0.59375    |  0.3125     |  1.1875     |\n",
       "| Mazda RX4 Wag |  0.909375   | -0.1875     |  -70.721875 | -36.6875    |  0.3034375  | -0.34225    | -0.82875    | -0.4375     |  0.59375    |  0.3125     |  1.1875     |\n",
       "| Datsun 710 |  2.709375   | -2.1875     | -122.721875 | -53.6875    |  0.2534375  | -0.89725    |  0.76125    |  0.5625     |  0.59375    |  0.3125     | -1.8125     |\n",
       "| Hornet 4 Drive |  1.309375   | -0.1875     |   27.278125 | -36.6875    | -0.5165625  | -0.00225    |  1.59125    |  0.5625     | -0.40625    | -0.6875     | -1.8125     |\n",
       "| Hornet Sportabout | -1.390625   |  1.8125     |  129.278125 |  28.3125    | -0.4465625  |  0.22275    | -0.82875    | -0.4375     | -0.40625    | -0.6875     | -0.8125     |\n",
       "| Valiant | -1.990625   | -0.1875     |   -5.721875 | -41.6875    | -0.8365625  |  0.24275    |  2.37125    |  0.5625     | -0.40625    | -0.6875     | -1.8125     |\n",
       "\n"
      ],
      "text/plain": [
       "                  mpg       cyl     disp        hp       drat       wt      \n",
       "Mazda RX4          0.909375 -0.1875  -70.721875 -36.6875  0.3034375 -0.59725\n",
       "Mazda RX4 Wag      0.909375 -0.1875  -70.721875 -36.6875  0.3034375 -0.34225\n",
       "Datsun 710         2.709375 -2.1875 -122.721875 -53.6875  0.2534375 -0.89725\n",
       "Hornet 4 Drive     1.309375 -0.1875   27.278125 -36.6875 -0.5165625 -0.00225\n",
       "Hornet Sportabout -1.390625  1.8125  129.278125  28.3125 -0.4465625  0.22275\n",
       "Valiant           -1.990625 -0.1875   -5.721875 -41.6875 -0.8365625  0.24275\n",
       "                  qsec     vs      am       gear    carb   \n",
       "Mazda RX4         -1.38875 -0.4375  0.59375  0.3125  1.1875\n",
       "Mazda RX4 Wag     -0.82875 -0.4375  0.59375  0.3125  1.1875\n",
       "Datsun 710         0.76125  0.5625  0.59375  0.3125 -1.8125\n",
       "Hornet 4 Drive     1.59125  0.5625 -0.40625 -0.6875 -1.8125\n",
       "Hornet Sportabout -0.82875 -0.4375 -0.40625 -0.6875 -0.8125\n",
       "Valiant            2.37125  0.5625 -0.40625 -0.6875 -1.8125"
      ]
     },
     "metadata": {},
     "output_type": "display_data"
    }
   ],
   "source": [
    "head(Xc)"
   ]
  },
  {
   "cell_type": "code",
   "execution_count": null,
   "metadata": {},
   "outputs": [],
   "source": []
  }
 ],
 "metadata": {
  "kernelspec": {
   "display_name": "R",
   "language": "R",
   "name": "ir"
  },
  "language_info": {
   "codemirror_mode": "r",
   "file_extension": ".r",
   "mimetype": "text/x-r-source",
   "name": "R",
   "pygments_lexer": "r",
   "version": "3.6.1"
  }
 },
 "nbformat": 4,
 "nbformat_minor": 2
}
