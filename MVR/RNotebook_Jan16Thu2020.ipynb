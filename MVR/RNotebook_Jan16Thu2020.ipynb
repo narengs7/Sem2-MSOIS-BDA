{
 "cells": [
  {
   "cell_type": "code",
   "execution_count": 101,
   "metadata": {
    "colab": {
     "base_uri": "https://localhost:8080/",
     "height": 283
    },
    "colab_type": "code",
    "id": "Afu0nl6bZuOw",
    "outputId": "cebe84a1-9f75-44b9-8bd6-fd4cd055afd4"
   },
   "outputs": [
    {
     "data": {
      "text/html": [
       "'data.frame'"
      ],
      "text/latex": [
       "'data.frame'"
      ],
      "text/markdown": [
       "'data.frame'"
      ],
      "text/plain": [
       "[1] \"data.frame\""
      ]
     },
     "metadata": {},
     "output_type": "display_data"
    },
    {
     "data": {
      "text/html": [
       "<ol class=list-inline>\n",
       "\t<li>32</li>\n",
       "\t<li>11</li>\n",
       "</ol>\n"
      ],
      "text/latex": [
       "\\begin{enumerate*}\n",
       "\\item 32\n",
       "\\item 11\n",
       "\\end{enumerate*}\n"
      ],
      "text/markdown": [
       "1. 32\n",
       "2. 11\n",
       "\n",
       "\n"
      ],
      "text/plain": [
       "[1] 32 11"
      ]
     },
     "metadata": {},
     "output_type": "display_data"
    },
    {
     "data": {
      "text/html": [
       "<table>\n",
       "<thead><tr><th></th><th scope=col>mpg</th><th scope=col>cyl</th><th scope=col>disp</th><th scope=col>hp</th><th scope=col>drat</th><th scope=col>wt</th><th scope=col>qsec</th><th scope=col>vs</th><th scope=col>am</th><th scope=col>gear</th><th scope=col>carb</th></tr></thead>\n",
       "<tbody>\n",
       "\t<tr><th scope=row>Mazda RX4</th><td>21.0 </td><td>6    </td><td>160  </td><td>110  </td><td>3.90 </td><td>2.620</td><td>16.46</td><td>0    </td><td>1    </td><td>4    </td><td>4    </td></tr>\n",
       "\t<tr><th scope=row>Mazda RX4 Wag</th><td>21.0 </td><td>6    </td><td>160  </td><td>110  </td><td>3.90 </td><td>2.875</td><td>17.02</td><td>0    </td><td>1    </td><td>4    </td><td>4    </td></tr>\n",
       "\t<tr><th scope=row>Datsun 710</th><td>22.8 </td><td>4    </td><td>108  </td><td> 93  </td><td>3.85 </td><td>2.320</td><td>18.61</td><td>1    </td><td>1    </td><td>4    </td><td>1    </td></tr>\n",
       "\t<tr><th scope=row>Hornet 4 Drive</th><td>21.4 </td><td>6    </td><td>258  </td><td>110  </td><td>3.08 </td><td>3.215</td><td>19.44</td><td>1    </td><td>0    </td><td>3    </td><td>1    </td></tr>\n",
       "\t<tr><th scope=row>Hornet Sportabout</th><td>18.7 </td><td>8    </td><td>360  </td><td>175  </td><td>3.15 </td><td>3.440</td><td>17.02</td><td>0    </td><td>0    </td><td>3    </td><td>2    </td></tr>\n",
       "\t<tr><th scope=row>Valiant</th><td>18.1 </td><td>6    </td><td>225  </td><td>105  </td><td>2.76 </td><td>3.460</td><td>20.22</td><td>1    </td><td>0    </td><td>3    </td><td>1    </td></tr>\n",
       "</tbody>\n",
       "</table>\n"
      ],
      "text/latex": [
       "\\begin{tabular}{r|lllllllllll}\n",
       "  & mpg & cyl & disp & hp & drat & wt & qsec & vs & am & gear & carb\\\\\n",
       "\\hline\n",
       "\tMazda RX4 & 21.0  & 6     & 160   & 110   & 3.90  & 2.620 & 16.46 & 0     & 1     & 4     & 4    \\\\\n",
       "\tMazda RX4 Wag & 21.0  & 6     & 160   & 110   & 3.90  & 2.875 & 17.02 & 0     & 1     & 4     & 4    \\\\\n",
       "\tDatsun 710 & 22.8  & 4     & 108   &  93   & 3.85  & 2.320 & 18.61 & 1     & 1     & 4     & 1    \\\\\n",
       "\tHornet 4 Drive & 21.4  & 6     & 258   & 110   & 3.08  & 3.215 & 19.44 & 1     & 0     & 3     & 1    \\\\\n",
       "\tHornet Sportabout & 18.7  & 8     & 360   & 175   & 3.15  & 3.440 & 17.02 & 0     & 0     & 3     & 2    \\\\\n",
       "\tValiant & 18.1  & 6     & 225   & 105   & 2.76  & 3.460 & 20.22 & 1     & 0     & 3     & 1    \\\\\n",
       "\\end{tabular}\n"
      ],
      "text/markdown": [
       "\n",
       "| <!--/--> | mpg | cyl | disp | hp | drat | wt | qsec | vs | am | gear | carb |\n",
       "|---|---|---|---|---|---|---|---|---|---|---|---|\n",
       "| Mazda RX4 | 21.0  | 6     | 160   | 110   | 3.90  | 2.620 | 16.46 | 0     | 1     | 4     | 4     |\n",
       "| Mazda RX4 Wag | 21.0  | 6     | 160   | 110   | 3.90  | 2.875 | 17.02 | 0     | 1     | 4     | 4     |\n",
       "| Datsun 710 | 22.8  | 4     | 108   |  93   | 3.85  | 2.320 | 18.61 | 1     | 1     | 4     | 1     |\n",
       "| Hornet 4 Drive | 21.4  | 6     | 258   | 110   | 3.08  | 3.215 | 19.44 | 1     | 0     | 3     | 1     |\n",
       "| Hornet Sportabout | 18.7  | 8     | 360   | 175   | 3.15  | 3.440 | 17.02 | 0     | 0     | 3     | 2     |\n",
       "| Valiant | 18.1  | 6     | 225   | 105   | 2.76  | 3.460 | 20.22 | 1     | 0     | 3     | 1     |\n",
       "\n"
      ],
      "text/plain": [
       "                  mpg  cyl disp hp  drat wt    qsec  vs am gear carb\n",
       "Mazda RX4         21.0 6   160  110 3.90 2.620 16.46 0  1  4    4   \n",
       "Mazda RX4 Wag     21.0 6   160  110 3.90 2.875 17.02 0  1  4    4   \n",
       "Datsun 710        22.8 4   108   93 3.85 2.320 18.61 1  1  4    1   \n",
       "Hornet 4 Drive    21.4 6   258  110 3.08 3.215 19.44 1  0  3    1   \n",
       "Hornet Sportabout 18.7 8   360  175 3.15 3.440 17.02 0  0  3    2   \n",
       "Valiant           18.1 6   225  105 2.76 3.460 20.22 1  0  3    1   "
      ]
     },
     "metadata": {},
     "output_type": "display_data"
    }
   ],
   "source": [
    "data(mtcars)\n",
    "class(mtcars)\n",
    "dim(mtcars)\n",
    "head(mtcars)"
   ]
  },
  {
   "cell_type": "code",
   "execution_count": 102,
   "metadata": {
    "colab": {},
    "colab_type": "code",
    "id": "bQx0wS9yxDys"
   },
   "outputs": [],
   "source": [
    "X = as.matrix(mtcars)"
   ]
  },
  {
   "cell_type": "code",
   "execution_count": 103,
   "metadata": {
    "colab": {
     "base_uri": "https://localhost:8080/",
     "height": 420
    },
    "colab_type": "code",
    "id": "rzX2XcWmxH4Y",
    "outputId": "65c8e05b-1e97-45b6-e66b-c00541ef4397"
   },
   "outputs": [
    {
     "data": {
      "text/html": [
       "<dl class=dl-horizontal>\n",
       "\t<dt>mpg</dt>\n",
       "\t\t<dd>6.0269480520891</dd>\n",
       "\t<dt>cyl</dt>\n",
       "\t\t<dd>1.78592164694654</dd>\n",
       "\t<dt>disp</dt>\n",
       "\t\t<dd>123.938693831382</dd>\n",
       "\t<dt>hp</dt>\n",
       "\t\t<dd>68.5628684893206</dd>\n",
       "\t<dt>drat</dt>\n",
       "\t\t<dd>0.534678736070971</dd>\n",
       "\t<dt>wt</dt>\n",
       "\t\t<dd>0.978457442989697</dd>\n",
       "\t<dt>qsec</dt>\n",
       "\t\t<dd>1.78694323609684</dd>\n",
       "\t<dt>vs</dt>\n",
       "\t\t<dd>0.504016128774185</dd>\n",
       "\t<dt>am</dt>\n",
       "\t\t<dd>0.498990917235846</dd>\n",
       "\t<dt>gear</dt>\n",
       "\t\t<dd>0.737804065256947</dd>\n",
       "\t<dt>carb</dt>\n",
       "\t\t<dd>1.61519997763185</dd>\n",
       "</dl>\n"
      ],
      "text/latex": [
       "\\begin{description*}\n",
       "\\item[mpg] 6.0269480520891\n",
       "\\item[cyl] 1.78592164694654\n",
       "\\item[disp] 123.938693831382\n",
       "\\item[hp] 68.5628684893206\n",
       "\\item[drat] 0.534678736070971\n",
       "\\item[wt] 0.978457442989697\n",
       "\\item[qsec] 1.78694323609684\n",
       "\\item[vs] 0.504016128774185\n",
       "\\item[am] 0.498990917235846\n",
       "\\item[gear] 0.737804065256947\n",
       "\\item[carb] 1.61519997763185\n",
       "\\end{description*}\n"
      ],
      "text/markdown": [
       "mpg\n",
       ":   6.0269480520891cyl\n",
       ":   1.78592164694654disp\n",
       ":   123.938693831382hp\n",
       ":   68.5628684893206drat\n",
       ":   0.534678736070971wt\n",
       ":   0.978457442989697qsec\n",
       ":   1.78694323609684vs\n",
       ":   0.504016128774185am\n",
       ":   0.498990917235846gear\n",
       ":   0.737804065256947carb\n",
       ":   1.61519997763185\n",
       "\n"
      ],
      "text/plain": [
       "        mpg         cyl        disp          hp        drat          wt \n",
       "  6.0269481   1.7859216 123.9386938  68.5628685   0.5346787   0.9784574 \n",
       "       qsec          vs          am        gear        carb \n",
       "  1.7869432   0.5040161   0.4989909   0.7378041   1.6152000 "
      ]
     },
     "metadata": {},
     "output_type": "display_data"
    }
   ],
   "source": [
    "apply(X,2,sd)"
   ]
  },
  {
   "cell_type": "code",
   "execution_count": 104,
   "metadata": {
    "colab": {
     "base_uri": "https://localhost:8080/",
     "height": 420
    },
    "colab_type": "code",
    "id": "V9a_V2XK-DMU",
    "outputId": "f6783968-78b0-4a15-c5e1-0723f57ae6c9"
   },
   "outputs": [
    {
     "data": {
      "text/html": [
       "<dl class=dl-horizontal>\n",
       "\t<dt>mpg</dt>\n",
       "\t\t<dd>20.090625</dd>\n",
       "\t<dt>cyl</dt>\n",
       "\t\t<dd>6.1875</dd>\n",
       "\t<dt>disp</dt>\n",
       "\t\t<dd>230.721875</dd>\n",
       "\t<dt>hp</dt>\n",
       "\t\t<dd>146.6875</dd>\n",
       "\t<dt>drat</dt>\n",
       "\t\t<dd>3.5965625</dd>\n",
       "\t<dt>wt</dt>\n",
       "\t\t<dd>3.21725</dd>\n",
       "\t<dt>qsec</dt>\n",
       "\t\t<dd>17.84875</dd>\n",
       "\t<dt>vs</dt>\n",
       "\t\t<dd>0.4375</dd>\n",
       "\t<dt>am</dt>\n",
       "\t\t<dd>0.40625</dd>\n",
       "\t<dt>gear</dt>\n",
       "\t\t<dd>3.6875</dd>\n",
       "\t<dt>carb</dt>\n",
       "\t\t<dd>2.8125</dd>\n",
       "</dl>\n"
      ],
      "text/latex": [
       "\\begin{description*}\n",
       "\\item[mpg] 20.090625\n",
       "\\item[cyl] 6.1875\n",
       "\\item[disp] 230.721875\n",
       "\\item[hp] 146.6875\n",
       "\\item[drat] 3.5965625\n",
       "\\item[wt] 3.21725\n",
       "\\item[qsec] 17.84875\n",
       "\\item[vs] 0.4375\n",
       "\\item[am] 0.40625\n",
       "\\item[gear] 3.6875\n",
       "\\item[carb] 2.8125\n",
       "\\end{description*}\n"
      ],
      "text/markdown": [
       "mpg\n",
       ":   20.090625cyl\n",
       ":   6.1875disp\n",
       ":   230.721875hp\n",
       ":   146.6875drat\n",
       ":   3.5965625wt\n",
       ":   3.21725qsec\n",
       ":   17.84875vs\n",
       ":   0.4375am\n",
       ":   0.40625gear\n",
       ":   3.6875carb\n",
       ":   2.8125\n",
       "\n"
      ],
      "text/plain": [
       "       mpg        cyl       disp         hp       drat         wt       qsec \n",
       " 20.090625   6.187500 230.721875 146.687500   3.596563   3.217250  17.848750 \n",
       "        vs         am       gear       carb \n",
       "  0.437500   0.406250   3.687500   2.812500 "
      ]
     },
     "metadata": {},
     "output_type": "display_data"
    }
   ],
   "source": [
    "colMeans(X)"
   ]
  },
  {
   "cell_type": "code",
   "execution_count": 105,
   "metadata": {
    "colab": {},
    "colab_type": "code",
    "id": "4DWPz52a875U"
   },
   "outputs": [],
   "source": [
    "Xc = X-rep(colMeans(X), rep.int(nrow(X), ncol(X)))"
   ]
  },
  {
   "cell_type": "code",
   "execution_count": 106,
   "metadata": {
    "colab": {
     "base_uri": "https://localhost:8080/",
     "height": 420
    },
    "colab_type": "code",
    "id": "uMw-Ybbq97WE",
    "outputId": "2daae903-0c95-49b2-f274-2cebc09652ef"
   },
   "outputs": [
    {
     "data": {
      "text/html": [
       "<dl class=dl-horizontal>\n",
       "\t<dt>mpg</dt>\n",
       "\t\t<dd>4.44089209850063e-16</dd>\n",
       "\t<dt>cyl</dt>\n",
       "\t\t<dd>0</dd>\n",
       "\t<dt>disp</dt>\n",
       "\t\t<dd>-1.19904086659517e-14</dd>\n",
       "\t<dt>hp</dt>\n",
       "\t\t<dd>0</dd>\n",
       "\t<dt>drat</dt>\n",
       "\t\t<dd>-1.52655665885959e-16</dd>\n",
       "\t<dt>wt</dt>\n",
       "\t\t<dd>3.46944695195361e-17</dd>\n",
       "\t<dt>qsec</dt>\n",
       "\t\t<dd>9.43689570931383e-16</dd>\n",
       "\t<dt>vs</dt>\n",
       "\t\t<dd>0</dd>\n",
       "\t<dt>am</dt>\n",
       "\t\t<dd>0</dd>\n",
       "\t<dt>gear</dt>\n",
       "\t\t<dd>0</dd>\n",
       "\t<dt>carb</dt>\n",
       "\t\t<dd>0</dd>\n",
       "</dl>\n"
      ],
      "text/latex": [
       "\\begin{description*}\n",
       "\\item[mpg] 4.44089209850063e-16\n",
       "\\item[cyl] 0\n",
       "\\item[disp] -1.19904086659517e-14\n",
       "\\item[hp] 0\n",
       "\\item[drat] -1.52655665885959e-16\n",
       "\\item[wt] 3.46944695195361e-17\n",
       "\\item[qsec] 9.43689570931383e-16\n",
       "\\item[vs] 0\n",
       "\\item[am] 0\n",
       "\\item[gear] 0\n",
       "\\item[carb] 0\n",
       "\\end{description*}\n"
      ],
      "text/markdown": [
       "mpg\n",
       ":   4.44089209850063e-16cyl\n",
       ":   0disp\n",
       ":   -1.19904086659517e-14hp\n",
       ":   0drat\n",
       ":   -1.52655665885959e-16wt\n",
       ":   3.46944695195361e-17qsec\n",
       ":   9.43689570931383e-16vs\n",
       ":   0am\n",
       ":   0gear\n",
       ":   0carb\n",
       ":   0\n",
       "\n"
      ],
      "text/plain": [
       "          mpg           cyl          disp            hp          drat \n",
       " 4.440892e-16  0.000000e+00 -1.199041e-14  0.000000e+00 -1.526557e-16 \n",
       "           wt          qsec            vs            am          gear \n",
       " 3.469447e-17  9.436896e-16  0.000000e+00  0.000000e+00  0.000000e+00 \n",
       "         carb \n",
       " 0.000000e+00 "
      ]
     },
     "metadata": {},
     "output_type": "display_data"
    }
   ],
   "source": [
    "apply(Xc,2,mean)"
   ]
  },
  {
   "cell_type": "code",
   "execution_count": 107,
   "metadata": {
    "colab": {},
    "colab_type": "code",
    "id": "6SuziR33_Pxo"
   },
   "outputs": [],
   "source": [
    "Xc = apply(X, 2, function(cols) cols-mean(cols))"
   ]
  },
  {
   "cell_type": "code",
   "execution_count": 108,
   "metadata": {
    "colab": {
     "base_uri": "https://localhost:8080/",
     "height": 420
    },
    "colab_type": "code",
    "id": "d4lo0G7D_hKc",
    "outputId": "b6a8a995-e04e-4abb-ed86-79b4e65d2c2c"
   },
   "outputs": [
    {
     "data": {
      "text/html": [
       "<dl class=dl-horizontal>\n",
       "\t<dt>mpg</dt>\n",
       "\t\t<dd>4.44089209850063e-16</dd>\n",
       "\t<dt>cyl</dt>\n",
       "\t\t<dd>0</dd>\n",
       "\t<dt>disp</dt>\n",
       "\t\t<dd>-1.19904086659517e-14</dd>\n",
       "\t<dt>hp</dt>\n",
       "\t\t<dd>0</dd>\n",
       "\t<dt>drat</dt>\n",
       "\t\t<dd>-1.52655665885959e-16</dd>\n",
       "\t<dt>wt</dt>\n",
       "\t\t<dd>3.46944695195361e-17</dd>\n",
       "\t<dt>qsec</dt>\n",
       "\t\t<dd>9.43689570931383e-16</dd>\n",
       "\t<dt>vs</dt>\n",
       "\t\t<dd>0</dd>\n",
       "\t<dt>am</dt>\n",
       "\t\t<dd>0</dd>\n",
       "\t<dt>gear</dt>\n",
       "\t\t<dd>0</dd>\n",
       "\t<dt>carb</dt>\n",
       "\t\t<dd>0</dd>\n",
       "</dl>\n"
      ],
      "text/latex": [
       "\\begin{description*}\n",
       "\\item[mpg] 4.44089209850063e-16\n",
       "\\item[cyl] 0\n",
       "\\item[disp] -1.19904086659517e-14\n",
       "\\item[hp] 0\n",
       "\\item[drat] -1.52655665885959e-16\n",
       "\\item[wt] 3.46944695195361e-17\n",
       "\\item[qsec] 9.43689570931383e-16\n",
       "\\item[vs] 0\n",
       "\\item[am] 0\n",
       "\\item[gear] 0\n",
       "\\item[carb] 0\n",
       "\\end{description*}\n"
      ],
      "text/markdown": [
       "mpg\n",
       ":   4.44089209850063e-16cyl\n",
       ":   0disp\n",
       ":   -1.19904086659517e-14hp\n",
       ":   0drat\n",
       ":   -1.52655665885959e-16wt\n",
       ":   3.46944695195361e-17qsec\n",
       ":   9.43689570931383e-16vs\n",
       ":   0am\n",
       ":   0gear\n",
       ":   0carb\n",
       ":   0\n",
       "\n"
      ],
      "text/plain": [
       "          mpg           cyl          disp            hp          drat \n",
       " 4.440892e-16  0.000000e+00 -1.199041e-14  0.000000e+00 -1.526557e-16 \n",
       "           wt          qsec            vs            am          gear \n",
       " 3.469447e-17  9.436896e-16  0.000000e+00  0.000000e+00  0.000000e+00 \n",
       "         carb \n",
       " 0.000000e+00 "
      ]
     },
     "metadata": {},
     "output_type": "display_data"
    }
   ],
   "source": [
    "apply(Xc,2,mean)"
   ]
  },
  {
   "cell_type": "code",
   "execution_count": 11,
   "metadata": {},
   "outputs": [
    {
     "data": {
      "text/html": [
       "<table>\n",
       "<thead><tr><th></th><th scope=col>mpg</th><th scope=col>cyl</th><th scope=col>disp</th><th scope=col>hp</th><th scope=col>drat</th><th scope=col>wt</th><th scope=col>qsec</th><th scope=col>vs</th><th scope=col>am</th><th scope=col>gear</th><th scope=col>carb</th></tr></thead>\n",
       "<tbody>\n",
       "\t<tr><th scope=row>mpg</th><td>  36.324103 </td><td> -9.1723790 </td><td> -633.09721 </td><td>-320.732056 </td><td>  2.19506351</td><td> -5.1166847 </td><td>  4.50914919</td><td>  2.01713710</td><td>  1.80393145</td><td>  2.1356855 </td><td>-5.36310484 </td></tr>\n",
       "\t<tr><th scope=row>cyl</th><td>  -9.172379 </td><td>  3.1895161 </td><td>  199.66028 </td><td> 101.931452 </td><td> -0.66836694</td><td>  1.3673710 </td><td> -1.88685484</td><td> -0.72983871</td><td> -0.46572581</td><td> -0.6491935 </td><td> 1.52016129 </td></tr>\n",
       "\t<tr><th scope=row>disp</th><td>-633.097208 </td><td>199.6602823 </td><td>15360.79983 </td><td>6721.158669 </td><td>-47.06401915</td><td>107.6842040 </td><td>-96.05168145</td><td>-44.37762097</td><td>-36.56401210</td><td>-50.8026210 </td><td>79.06875000 </td></tr>\n",
       "\t<tr><th scope=row>hp</th><td>-320.732056 </td><td>101.9314516 </td><td> 6721.15867 </td><td>4700.866935 </td><td>-16.45110887</td><td> 44.1926613 </td><td>-86.77008065</td><td>-24.98790323</td><td> -8.32056452</td><td> -6.3588710 </td><td>83.03629032 </td></tr>\n",
       "\t<tr><th scope=row>drat</th><td>   2.195064 </td><td> -0.6683669 </td><td>  -47.06402 </td><td> -16.451109 </td><td>  0.28588135</td><td> -0.3727207 </td><td>  0.08714073</td><td>  0.11864919</td><td>  0.19015121</td><td>  0.2759879 </td><td>-0.07840726 </td></tr>\n",
       "\t<tr><th scope=row>wt</th><td>  -5.116685 </td><td>  1.3673710 </td><td>  107.68420 </td><td>  44.192661 </td><td> -0.37272073</td><td>  0.9573790 </td><td> -0.30548161</td><td> -0.27366129</td><td> -0.33810484</td><td> -0.4210806 </td><td> 0.67579032 </td></tr>\n",
       "\t<tr><th scope=row>qsec</th><td>   4.509149 </td><td> -1.8868548 </td><td>  -96.05168 </td><td> -86.770081 </td><td>  0.08714073</td><td> -0.3054816 </td><td>  3.19316613</td><td>  0.67056452</td><td> -0.20495968</td><td> -0.2804032 </td><td>-1.89411290 </td></tr>\n",
       "\t<tr><th scope=row>vs</th><td>   2.017137 </td><td> -0.7298387 </td><td>  -44.37762 </td><td> -24.987903 </td><td>  0.11864919</td><td> -0.2736613 </td><td>  0.67056452</td><td>  0.25403226</td><td>  0.04233871</td><td>  0.0766129 </td><td>-0.46370968 </td></tr>\n",
       "\t<tr><th scope=row>am</th><td>   1.803931 </td><td> -0.4657258 </td><td>  -36.56401 </td><td>  -8.320565 </td><td>  0.19015121</td><td> -0.3381048 </td><td> -0.20495968</td><td>  0.04233871</td><td>  0.24899194</td><td>  0.2923387 </td><td> 0.04637097 </td></tr>\n",
       "\t<tr><th scope=row>gear</th><td>   2.135685 </td><td> -0.6491935 </td><td>  -50.80262 </td><td>  -6.358871 </td><td>  0.27598790</td><td> -0.4210806 </td><td> -0.28040323</td><td>  0.07661290</td><td>  0.29233871</td><td>  0.5443548 </td><td> 0.32661290 </td></tr>\n",
       "\t<tr><th scope=row>carb</th><td>  -5.363105 </td><td>  1.5201613 </td><td>   79.06875 </td><td>  83.036290 </td><td> -0.07840726</td><td>  0.6757903 </td><td> -1.89411290</td><td> -0.46370968</td><td>  0.04637097</td><td>  0.3266129 </td><td> 2.60887097 </td></tr>\n",
       "</tbody>\n",
       "</table>\n"
      ],
      "text/latex": [
       "\\begin{tabular}{r|lllllllllll}\n",
       "  & mpg & cyl & disp & hp & drat & wt & qsec & vs & am & gear & carb\\\\\n",
       "\\hline\n",
       "\tmpg &   36.324103  &  -9.1723790  &  -633.09721  & -320.732056  &   2.19506351 &  -5.1166847  &   4.50914919 &   2.01713710 &   1.80393145 &   2.1356855  & -5.36310484 \\\\\n",
       "\tcyl &   -9.172379  &   3.1895161  &   199.66028  &  101.931452  &  -0.66836694 &   1.3673710  &  -1.88685484 &  -0.72983871 &  -0.46572581 &  -0.6491935  &  1.52016129 \\\\\n",
       "\tdisp & -633.097208  & 199.6602823  & 15360.79983  & 6721.158669  & -47.06401915 & 107.6842040  & -96.05168145 & -44.37762097 & -36.56401210 & -50.8026210  & 79.06875000 \\\\\n",
       "\thp & -320.732056  & 101.9314516  &  6721.15867  & 4700.866935  & -16.45110887 &  44.1926613  & -86.77008065 & -24.98790323 &  -8.32056452 &  -6.3588710  & 83.03629032 \\\\\n",
       "\tdrat &    2.195064  &  -0.6683669  &   -47.06402  &  -16.451109  &   0.28588135 &  -0.3727207  &   0.08714073 &   0.11864919 &   0.19015121 &   0.2759879  & -0.07840726 \\\\\n",
       "\twt &   -5.116685  &   1.3673710  &   107.68420  &   44.192661  &  -0.37272073 &   0.9573790  &  -0.30548161 &  -0.27366129 &  -0.33810484 &  -0.4210806  &  0.67579032 \\\\\n",
       "\tqsec &    4.509149  &  -1.8868548  &   -96.05168  &  -86.770081  &   0.08714073 &  -0.3054816  &   3.19316613 &   0.67056452 &  -0.20495968 &  -0.2804032  & -1.89411290 \\\\\n",
       "\tvs &    2.017137  &  -0.7298387  &   -44.37762  &  -24.987903  &   0.11864919 &  -0.2736613  &   0.67056452 &   0.25403226 &   0.04233871 &   0.0766129  & -0.46370968 \\\\\n",
       "\tam &    1.803931  &  -0.4657258  &   -36.56401  &   -8.320565  &   0.19015121 &  -0.3381048  &  -0.20495968 &   0.04233871 &   0.24899194 &   0.2923387  &  0.04637097 \\\\\n",
       "\tgear &    2.135685  &  -0.6491935  &   -50.80262  &   -6.358871  &   0.27598790 &  -0.4210806  &  -0.28040323 &   0.07661290 &   0.29233871 &   0.5443548  &  0.32661290 \\\\\n",
       "\tcarb &   -5.363105  &   1.5201613  &    79.06875  &   83.036290  &  -0.07840726 &   0.6757903  &  -1.89411290 &  -0.46370968 &   0.04637097 &   0.3266129  &  2.60887097 \\\\\n",
       "\\end{tabular}\n"
      ],
      "text/markdown": [
       "\n",
       "| <!--/--> | mpg | cyl | disp | hp | drat | wt | qsec | vs | am | gear | carb |\n",
       "|---|---|---|---|---|---|---|---|---|---|---|---|\n",
       "| mpg |   36.324103  |  -9.1723790  |  -633.09721  | -320.732056  |   2.19506351 |  -5.1166847  |   4.50914919 |   2.01713710 |   1.80393145 |   2.1356855  | -5.36310484  |\n",
       "| cyl |   -9.172379  |   3.1895161  |   199.66028  |  101.931452  |  -0.66836694 |   1.3673710  |  -1.88685484 |  -0.72983871 |  -0.46572581 |  -0.6491935  |  1.52016129  |\n",
       "| disp | -633.097208  | 199.6602823  | 15360.79983  | 6721.158669  | -47.06401915 | 107.6842040  | -96.05168145 | -44.37762097 | -36.56401210 | -50.8026210  | 79.06875000  |\n",
       "| hp | -320.732056  | 101.9314516  |  6721.15867  | 4700.866935  | -16.45110887 |  44.1926613  | -86.77008065 | -24.98790323 |  -8.32056452 |  -6.3588710  | 83.03629032  |\n",
       "| drat |    2.195064  |  -0.6683669  |   -47.06402  |  -16.451109  |   0.28588135 |  -0.3727207  |   0.08714073 |   0.11864919 |   0.19015121 |   0.2759879  | -0.07840726  |\n",
       "| wt |   -5.116685  |   1.3673710  |   107.68420  |   44.192661  |  -0.37272073 |   0.9573790  |  -0.30548161 |  -0.27366129 |  -0.33810484 |  -0.4210806  |  0.67579032  |\n",
       "| qsec |    4.509149  |  -1.8868548  |   -96.05168  |  -86.770081  |   0.08714073 |  -0.3054816  |   3.19316613 |   0.67056452 |  -0.20495968 |  -0.2804032  | -1.89411290  |\n",
       "| vs |    2.017137  |  -0.7298387  |   -44.37762  |  -24.987903  |   0.11864919 |  -0.2736613  |   0.67056452 |   0.25403226 |   0.04233871 |   0.0766129  | -0.46370968  |\n",
       "| am |    1.803931  |  -0.4657258  |   -36.56401  |   -8.320565  |   0.19015121 |  -0.3381048  |  -0.20495968 |   0.04233871 |   0.24899194 |   0.2923387  |  0.04637097  |\n",
       "| gear |    2.135685  |  -0.6491935  |   -50.80262  |   -6.358871  |   0.27598790 |  -0.4210806  |  -0.28040323 |   0.07661290 |   0.29233871 |   0.5443548  |  0.32661290  |\n",
       "| carb |   -5.363105  |   1.5201613  |    79.06875  |   83.036290  |  -0.07840726 |   0.6757903  |  -1.89411290 |  -0.46370968 |   0.04637097 |   0.3266129  |  2.60887097  |\n",
       "\n"
      ],
      "text/plain": [
       "     mpg         cyl         disp        hp          drat         wt         \n",
       "mpg    36.324103  -9.1723790  -633.09721 -320.732056   2.19506351  -5.1166847\n",
       "cyl    -9.172379   3.1895161   199.66028  101.931452  -0.66836694   1.3673710\n",
       "disp -633.097208 199.6602823 15360.79983 6721.158669 -47.06401915 107.6842040\n",
       "hp   -320.732056 101.9314516  6721.15867 4700.866935 -16.45110887  44.1926613\n",
       "drat    2.195064  -0.6683669   -47.06402  -16.451109   0.28588135  -0.3727207\n",
       "wt     -5.116685   1.3673710   107.68420   44.192661  -0.37272073   0.9573790\n",
       "qsec    4.509149  -1.8868548   -96.05168  -86.770081   0.08714073  -0.3054816\n",
       "vs      2.017137  -0.7298387   -44.37762  -24.987903   0.11864919  -0.2736613\n",
       "am      1.803931  -0.4657258   -36.56401   -8.320565   0.19015121  -0.3381048\n",
       "gear    2.135685  -0.6491935   -50.80262   -6.358871   0.27598790  -0.4210806\n",
       "carb   -5.363105   1.5201613    79.06875   83.036290  -0.07840726   0.6757903\n",
       "     qsec         vs           am           gear        carb       \n",
       "mpg    4.50914919   2.01713710   1.80393145   2.1356855 -5.36310484\n",
       "cyl   -1.88685484  -0.72983871  -0.46572581  -0.6491935  1.52016129\n",
       "disp -96.05168145 -44.37762097 -36.56401210 -50.8026210 79.06875000\n",
       "hp   -86.77008065 -24.98790323  -8.32056452  -6.3588710 83.03629032\n",
       "drat   0.08714073   0.11864919   0.19015121   0.2759879 -0.07840726\n",
       "wt    -0.30548161  -0.27366129  -0.33810484  -0.4210806  0.67579032\n",
       "qsec   3.19316613   0.67056452  -0.20495968  -0.2804032 -1.89411290\n",
       "vs     0.67056452   0.25403226   0.04233871   0.0766129 -0.46370968\n",
       "am    -0.20495968   0.04233871   0.24899194   0.2923387  0.04637097\n",
       "gear  -0.28040323   0.07661290   0.29233871   0.5443548  0.32661290\n",
       "carb  -1.89411290  -0.46370968   0.04637097   0.3266129  2.60887097"
      ]
     },
     "metadata": {},
     "output_type": "display_data"
    }
   ],
   "source": [
    "s <-cov(X)\n",
    "s"
   ]
  },
  {
   "cell_type": "code",
   "execution_count": 26,
   "metadata": {},
   "outputs": [
    {
     "data": {
      "text/html": [
       "-9.17237903225806"
      ],
      "text/latex": [
       "-9.17237903225806"
      ],
      "text/markdown": [
       "-9.17237903225806"
      ],
      "text/plain": [
       "[1] -9.172379"
      ]
     },
     "metadata": {},
     "output_type": "display_data"
    }
   ],
   "source": [
    "cov(X[,1],X[,2])"
   ]
  },
  {
   "cell_type": "code",
   "execution_count": 34,
   "metadata": {},
   "outputs": [
    {
     "data": {
      "text/html": [
       "<table>\n",
       "<thead><tr><th scope=col>cyl</th><th scope=col>drat</th></tr></thead>\n",
       "<tbody>\n",
       "\t<tr><td>-9.172379</td><td>2.195064 </td></tr>\n",
       "</tbody>\n",
       "</table>\n"
      ],
      "text/latex": [
       "\\begin{tabular}{ll}\n",
       " cyl & drat\\\\\n",
       "\\hline\n",
       "\t -9.172379 & 2.195064 \\\\\n",
       "\\end{tabular}\n"
      ],
      "text/markdown": [
       "\n",
       "| cyl | drat |\n",
       "|---|---|\n",
       "| -9.172379 | 2.195064  |\n",
       "\n"
      ],
      "text/plain": [
       "     cyl       drat    \n",
       "[1,] -9.172379 2.195064"
      ]
     },
     "metadata": {},
     "output_type": "display_data"
    }
   ],
   "source": [
    "cov(X[,1],X[,range(2,5)])"
   ]
  },
  {
   "cell_type": "code",
   "execution_count": 36,
   "metadata": {},
   "outputs": [
    {
     "data": {
      "text/html": [
       "<table>\n",
       "<thead><tr><th></th><th scope=col>mpg</th><th scope=col>cyl</th><th scope=col>disp</th><th scope=col>hp</th><th scope=col>drat</th><th scope=col>wt</th><th scope=col>qsec</th><th scope=col>vs</th><th scope=col>am</th><th scope=col>gear</th><th scope=col>carb</th></tr></thead>\n",
       "<tbody>\n",
       "\t<tr><th scope=row>Mazda RX4</th><td> 0.909375  </td><td>-0.1875    </td><td> -70.721875</td><td>-36.6875   </td><td> 0.3034375 </td><td>-0.59725   </td><td>-1.38875   </td><td>-0.4375    </td><td> 0.59375   </td><td> 0.3125    </td><td> 1.1875    </td></tr>\n",
       "\t<tr><th scope=row>Mazda RX4 Wag</th><td> 0.909375  </td><td>-0.1875    </td><td> -70.721875</td><td>-36.6875   </td><td> 0.3034375 </td><td>-0.34225   </td><td>-0.82875   </td><td>-0.4375    </td><td> 0.59375   </td><td> 0.3125    </td><td> 1.1875    </td></tr>\n",
       "\t<tr><th scope=row>Datsun 710</th><td> 2.709375  </td><td>-2.1875    </td><td>-122.721875</td><td>-53.6875   </td><td> 0.2534375 </td><td>-0.89725   </td><td> 0.76125   </td><td> 0.5625    </td><td> 0.59375   </td><td> 0.3125    </td><td>-1.8125    </td></tr>\n",
       "\t<tr><th scope=row>Hornet 4 Drive</th><td> 1.309375  </td><td>-0.1875    </td><td>  27.278125</td><td>-36.6875   </td><td>-0.5165625 </td><td>-0.00225   </td><td> 1.59125   </td><td> 0.5625    </td><td>-0.40625   </td><td>-0.6875    </td><td>-1.8125    </td></tr>\n",
       "\t<tr><th scope=row>Hornet Sportabout</th><td>-1.390625  </td><td> 1.8125    </td><td> 129.278125</td><td> 28.3125   </td><td>-0.4465625 </td><td> 0.22275   </td><td>-0.82875   </td><td>-0.4375    </td><td>-0.40625   </td><td>-0.6875    </td><td>-0.8125    </td></tr>\n",
       "\t<tr><th scope=row>Valiant</th><td>-1.990625  </td><td>-0.1875    </td><td>  -5.721875</td><td>-41.6875   </td><td>-0.8365625 </td><td> 0.24275   </td><td> 2.37125   </td><td> 0.5625    </td><td>-0.40625   </td><td>-0.6875    </td><td>-1.8125    </td></tr>\n",
       "\t<tr><th scope=row>Duster 360</th><td>-5.790625  </td><td> 1.8125    </td><td> 129.278125</td><td> 98.3125   </td><td>-0.3865625 </td><td> 0.35275   </td><td>-2.00875   </td><td>-0.4375    </td><td>-0.40625   </td><td>-0.6875    </td><td> 1.1875    </td></tr>\n",
       "\t<tr><th scope=row>Merc 240D</th><td> 4.309375  </td><td>-2.1875    </td><td> -84.021875</td><td>-84.6875   </td><td> 0.0934375 </td><td>-0.02725   </td><td> 2.15125   </td><td> 0.5625    </td><td>-0.40625   </td><td> 0.3125    </td><td>-0.8125    </td></tr>\n",
       "\t<tr><th scope=row>Merc 230</th><td> 2.709375  </td><td>-2.1875    </td><td> -89.921875</td><td>-51.6875   </td><td> 0.3234375 </td><td>-0.06725   </td><td> 5.05125   </td><td> 0.5625    </td><td>-0.40625   </td><td> 0.3125    </td><td>-0.8125    </td></tr>\n",
       "\t<tr><th scope=row>Merc 280</th><td>-0.890625  </td><td>-0.1875    </td><td> -63.121875</td><td>-23.6875   </td><td> 0.3234375 </td><td> 0.22275   </td><td> 0.45125   </td><td> 0.5625    </td><td>-0.40625   </td><td> 0.3125    </td><td> 1.1875    </td></tr>\n",
       "\t<tr><th scope=row>Merc 280C</th><td>-2.290625  </td><td>-0.1875    </td><td> -63.121875</td><td>-23.6875   </td><td> 0.3234375 </td><td> 0.22275   </td><td> 1.05125   </td><td> 0.5625    </td><td>-0.40625   </td><td> 0.3125    </td><td> 1.1875    </td></tr>\n",
       "\t<tr><th scope=row>Merc 450SE</th><td>-3.690625  </td><td> 1.8125    </td><td>  45.078125</td><td> 33.3125   </td><td>-0.5265625 </td><td> 0.85275   </td><td>-0.44875   </td><td>-0.4375    </td><td>-0.40625   </td><td>-0.6875    </td><td> 0.1875    </td></tr>\n",
       "\t<tr><th scope=row>Merc 450SL</th><td>-2.790625  </td><td> 1.8125    </td><td>  45.078125</td><td> 33.3125   </td><td>-0.5265625 </td><td> 0.51275   </td><td>-0.24875   </td><td>-0.4375    </td><td>-0.40625   </td><td>-0.6875    </td><td> 0.1875    </td></tr>\n",
       "\t<tr><th scope=row>Merc 450SLC</th><td>-4.890625  </td><td> 1.8125    </td><td>  45.078125</td><td> 33.3125   </td><td>-0.5265625 </td><td> 0.56275   </td><td> 0.15125   </td><td>-0.4375    </td><td>-0.40625   </td><td>-0.6875    </td><td> 0.1875    </td></tr>\n",
       "\t<tr><th scope=row>Cadillac Fleetwood</th><td>-9.690625  </td><td> 1.8125    </td><td> 241.278125</td><td> 58.3125   </td><td>-0.6665625 </td><td> 2.03275   </td><td> 0.13125   </td><td>-0.4375    </td><td>-0.40625   </td><td>-0.6875    </td><td> 1.1875    </td></tr>\n",
       "\t<tr><th scope=row>Lincoln Continental</th><td>-9.690625  </td><td> 1.8125    </td><td> 229.278125</td><td> 68.3125   </td><td>-0.5965625 </td><td> 2.20675   </td><td>-0.02875   </td><td>-0.4375    </td><td>-0.40625   </td><td>-0.6875    </td><td> 1.1875    </td></tr>\n",
       "\t<tr><th scope=row>Chrysler Imperial</th><td>-5.390625  </td><td> 1.8125    </td><td> 209.278125</td><td> 83.3125   </td><td>-0.3665625 </td><td> 2.12775   </td><td>-0.42875   </td><td>-0.4375    </td><td>-0.40625   </td><td>-0.6875    </td><td> 1.1875    </td></tr>\n",
       "\t<tr><th scope=row>Fiat 128</th><td>12.309375  </td><td>-2.1875    </td><td>-152.021875</td><td>-80.6875   </td><td> 0.4834375 </td><td>-1.01725   </td><td> 1.62125   </td><td> 0.5625    </td><td> 0.59375   </td><td> 0.3125    </td><td>-1.8125    </td></tr>\n",
       "\t<tr><th scope=row>Honda Civic</th><td>10.309375  </td><td>-2.1875    </td><td>-155.021875</td><td>-94.6875   </td><td> 1.3334375 </td><td>-1.60225   </td><td> 0.67125   </td><td> 0.5625    </td><td> 0.59375   </td><td> 0.3125    </td><td>-0.8125    </td></tr>\n",
       "\t<tr><th scope=row>Toyota Corolla</th><td>13.809375  </td><td>-2.1875    </td><td>-159.621875</td><td>-81.6875   </td><td> 0.6234375 </td><td>-1.38225   </td><td> 2.05125   </td><td> 0.5625    </td><td> 0.59375   </td><td> 0.3125    </td><td>-1.8125    </td></tr>\n",
       "\t<tr><th scope=row>Toyota Corona</th><td> 1.409375  </td><td>-2.1875    </td><td>-110.621875</td><td>-49.6875   </td><td> 0.1034375 </td><td>-0.75225   </td><td> 2.16125   </td><td> 0.5625    </td><td>-0.40625   </td><td>-0.6875    </td><td>-1.8125    </td></tr>\n",
       "\t<tr><th scope=row>Dodge Challenger</th><td>-4.590625  </td><td> 1.8125    </td><td>  87.278125</td><td>  3.3125   </td><td>-0.8365625 </td><td> 0.30275   </td><td>-0.97875   </td><td>-0.4375    </td><td>-0.40625   </td><td>-0.6875    </td><td>-0.8125    </td></tr>\n",
       "\t<tr><th scope=row>AMC Javelin</th><td>-4.890625  </td><td> 1.8125    </td><td>  73.278125</td><td>  3.3125   </td><td>-0.4465625 </td><td> 0.21775   </td><td>-0.54875   </td><td>-0.4375    </td><td>-0.40625   </td><td>-0.6875    </td><td>-0.8125    </td></tr>\n",
       "\t<tr><th scope=row>Camaro Z28</th><td>-6.790625  </td><td> 1.8125    </td><td> 119.278125</td><td> 98.3125   </td><td> 0.1334375 </td><td> 0.62275   </td><td>-2.43875   </td><td>-0.4375    </td><td>-0.40625   </td><td>-0.6875    </td><td> 1.1875    </td></tr>\n",
       "\t<tr><th scope=row>Pontiac Firebird</th><td>-0.890625  </td><td> 1.8125    </td><td> 169.278125</td><td> 28.3125   </td><td>-0.5165625 </td><td> 0.62775   </td><td>-0.79875   </td><td>-0.4375    </td><td>-0.40625   </td><td>-0.6875    </td><td>-0.8125    </td></tr>\n",
       "\t<tr><th scope=row>Fiat X1-9</th><td> 7.209375  </td><td>-2.1875    </td><td>-151.721875</td><td>-80.6875   </td><td> 0.4834375 </td><td>-1.28225   </td><td> 1.05125   </td><td> 0.5625    </td><td> 0.59375   </td><td> 0.3125    </td><td>-1.8125    </td></tr>\n",
       "\t<tr><th scope=row>Porsche 914-2</th><td> 5.909375  </td><td>-2.1875    </td><td>-110.421875</td><td>-55.6875   </td><td> 0.8334375 </td><td>-1.07725   </td><td>-1.14875   </td><td>-0.4375    </td><td> 0.59375   </td><td> 1.3125    </td><td>-0.8125    </td></tr>\n",
       "\t<tr><th scope=row>Lotus Europa</th><td>10.309375  </td><td>-2.1875    </td><td>-135.621875</td><td>-33.6875   </td><td> 0.1734375 </td><td>-1.70425   </td><td>-0.94875   </td><td> 0.5625    </td><td> 0.59375   </td><td> 1.3125    </td><td>-0.8125    </td></tr>\n",
       "\t<tr><th scope=row>Ford Pantera L</th><td>-4.290625  </td><td> 1.8125    </td><td> 120.278125</td><td>117.3125   </td><td> 0.6234375 </td><td>-0.04725   </td><td>-3.34875   </td><td>-0.4375    </td><td> 0.59375   </td><td> 1.3125    </td><td> 1.1875    </td></tr>\n",
       "\t<tr><th scope=row>Ferrari Dino</th><td>-0.390625  </td><td>-0.1875    </td><td> -85.721875</td><td> 28.3125   </td><td> 0.0234375 </td><td>-0.44725   </td><td>-2.34875   </td><td>-0.4375    </td><td> 0.59375   </td><td> 1.3125    </td><td> 3.1875    </td></tr>\n",
       "\t<tr><th scope=row>Maserati Bora</th><td>-5.090625  </td><td> 1.8125    </td><td>  70.278125</td><td>188.3125   </td><td>-0.0565625 </td><td> 0.35275   </td><td>-3.24875   </td><td>-0.4375    </td><td> 0.59375   </td><td> 1.3125    </td><td> 5.1875    </td></tr>\n",
       "\t<tr><th scope=row>Volvo 142E</th><td> 1.309375  </td><td>-2.1875    </td><td>-109.721875</td><td>-37.6875   </td><td> 0.5134375 </td><td>-0.43725   </td><td> 0.75125   </td><td> 0.5625    </td><td> 0.59375   </td><td> 0.3125    </td><td>-0.8125    </td></tr>\n",
       "</tbody>\n",
       "</table>\n"
      ],
      "text/latex": [
       "\\begin{tabular}{r|lllllllllll}\n",
       "  & mpg & cyl & disp & hp & drat & wt & qsec & vs & am & gear & carb\\\\\n",
       "\\hline\n",
       "\tMazda RX4 &  0.909375   & -0.1875     &  -70.721875 & -36.6875    &  0.3034375  & -0.59725    & -1.38875    & -0.4375     &  0.59375    &  0.3125     &  1.1875    \\\\\n",
       "\tMazda RX4 Wag &  0.909375   & -0.1875     &  -70.721875 & -36.6875    &  0.3034375  & -0.34225    & -0.82875    & -0.4375     &  0.59375    &  0.3125     &  1.1875    \\\\\n",
       "\tDatsun 710 &  2.709375   & -2.1875     & -122.721875 & -53.6875    &  0.2534375  & -0.89725    &  0.76125    &  0.5625     &  0.59375    &  0.3125     & -1.8125    \\\\\n",
       "\tHornet 4 Drive &  1.309375   & -0.1875     &   27.278125 & -36.6875    & -0.5165625  & -0.00225    &  1.59125    &  0.5625     & -0.40625    & -0.6875     & -1.8125    \\\\\n",
       "\tHornet Sportabout & -1.390625   &  1.8125     &  129.278125 &  28.3125    & -0.4465625  &  0.22275    & -0.82875    & -0.4375     & -0.40625    & -0.6875     & -0.8125    \\\\\n",
       "\tValiant & -1.990625   & -0.1875     &   -5.721875 & -41.6875    & -0.8365625  &  0.24275    &  2.37125    &  0.5625     & -0.40625    & -0.6875     & -1.8125    \\\\\n",
       "\tDuster 360 & -5.790625   &  1.8125     &  129.278125 &  98.3125    & -0.3865625  &  0.35275    & -2.00875    & -0.4375     & -0.40625    & -0.6875     &  1.1875    \\\\\n",
       "\tMerc 240D &  4.309375   & -2.1875     &  -84.021875 & -84.6875    &  0.0934375  & -0.02725    &  2.15125    &  0.5625     & -0.40625    &  0.3125     & -0.8125    \\\\\n",
       "\tMerc 230 &  2.709375   & -2.1875     &  -89.921875 & -51.6875    &  0.3234375  & -0.06725    &  5.05125    &  0.5625     & -0.40625    &  0.3125     & -0.8125    \\\\\n",
       "\tMerc 280 & -0.890625   & -0.1875     &  -63.121875 & -23.6875    &  0.3234375  &  0.22275    &  0.45125    &  0.5625     & -0.40625    &  0.3125     &  1.1875    \\\\\n",
       "\tMerc 280C & -2.290625   & -0.1875     &  -63.121875 & -23.6875    &  0.3234375  &  0.22275    &  1.05125    &  0.5625     & -0.40625    &  0.3125     &  1.1875    \\\\\n",
       "\tMerc 450SE & -3.690625   &  1.8125     &   45.078125 &  33.3125    & -0.5265625  &  0.85275    & -0.44875    & -0.4375     & -0.40625    & -0.6875     &  0.1875    \\\\\n",
       "\tMerc 450SL & -2.790625   &  1.8125     &   45.078125 &  33.3125    & -0.5265625  &  0.51275    & -0.24875    & -0.4375     & -0.40625    & -0.6875     &  0.1875    \\\\\n",
       "\tMerc 450SLC & -4.890625   &  1.8125     &   45.078125 &  33.3125    & -0.5265625  &  0.56275    &  0.15125    & -0.4375     & -0.40625    & -0.6875     &  0.1875    \\\\\n",
       "\tCadillac Fleetwood & -9.690625   &  1.8125     &  241.278125 &  58.3125    & -0.6665625  &  2.03275    &  0.13125    & -0.4375     & -0.40625    & -0.6875     &  1.1875    \\\\\n",
       "\tLincoln Continental & -9.690625   &  1.8125     &  229.278125 &  68.3125    & -0.5965625  &  2.20675    & -0.02875    & -0.4375     & -0.40625    & -0.6875     &  1.1875    \\\\\n",
       "\tChrysler Imperial & -5.390625   &  1.8125     &  209.278125 &  83.3125    & -0.3665625  &  2.12775    & -0.42875    & -0.4375     & -0.40625    & -0.6875     &  1.1875    \\\\\n",
       "\tFiat 128 & 12.309375   & -2.1875     & -152.021875 & -80.6875    &  0.4834375  & -1.01725    &  1.62125    &  0.5625     &  0.59375    &  0.3125     & -1.8125    \\\\\n",
       "\tHonda Civic & 10.309375   & -2.1875     & -155.021875 & -94.6875    &  1.3334375  & -1.60225    &  0.67125    &  0.5625     &  0.59375    &  0.3125     & -0.8125    \\\\\n",
       "\tToyota Corolla & 13.809375   & -2.1875     & -159.621875 & -81.6875    &  0.6234375  & -1.38225    &  2.05125    &  0.5625     &  0.59375    &  0.3125     & -1.8125    \\\\\n",
       "\tToyota Corona &  1.409375   & -2.1875     & -110.621875 & -49.6875    &  0.1034375  & -0.75225    &  2.16125    &  0.5625     & -0.40625    & -0.6875     & -1.8125    \\\\\n",
       "\tDodge Challenger & -4.590625   &  1.8125     &   87.278125 &   3.3125    & -0.8365625  &  0.30275    & -0.97875    & -0.4375     & -0.40625    & -0.6875     & -0.8125    \\\\\n",
       "\tAMC Javelin & -4.890625   &  1.8125     &   73.278125 &   3.3125    & -0.4465625  &  0.21775    & -0.54875    & -0.4375     & -0.40625    & -0.6875     & -0.8125    \\\\\n",
       "\tCamaro Z28 & -6.790625   &  1.8125     &  119.278125 &  98.3125    &  0.1334375  &  0.62275    & -2.43875    & -0.4375     & -0.40625    & -0.6875     &  1.1875    \\\\\n",
       "\tPontiac Firebird & -0.890625   &  1.8125     &  169.278125 &  28.3125    & -0.5165625  &  0.62775    & -0.79875    & -0.4375     & -0.40625    & -0.6875     & -0.8125    \\\\\n",
       "\tFiat X1-9 &  7.209375   & -2.1875     & -151.721875 & -80.6875    &  0.4834375  & -1.28225    &  1.05125    &  0.5625     &  0.59375    &  0.3125     & -1.8125    \\\\\n",
       "\tPorsche 914-2 &  5.909375   & -2.1875     & -110.421875 & -55.6875    &  0.8334375  & -1.07725    & -1.14875    & -0.4375     &  0.59375    &  1.3125     & -0.8125    \\\\\n",
       "\tLotus Europa & 10.309375   & -2.1875     & -135.621875 & -33.6875    &  0.1734375  & -1.70425    & -0.94875    &  0.5625     &  0.59375    &  1.3125     & -0.8125    \\\\\n",
       "\tFord Pantera L & -4.290625   &  1.8125     &  120.278125 & 117.3125    &  0.6234375  & -0.04725    & -3.34875    & -0.4375     &  0.59375    &  1.3125     &  1.1875    \\\\\n",
       "\tFerrari Dino & -0.390625   & -0.1875     &  -85.721875 &  28.3125    &  0.0234375  & -0.44725    & -2.34875    & -0.4375     &  0.59375    &  1.3125     &  3.1875    \\\\\n",
       "\tMaserati Bora & -5.090625   &  1.8125     &   70.278125 & 188.3125    & -0.0565625  &  0.35275    & -3.24875    & -0.4375     &  0.59375    &  1.3125     &  5.1875    \\\\\n",
       "\tVolvo 142E &  1.309375   & -2.1875     & -109.721875 & -37.6875    &  0.5134375  & -0.43725    &  0.75125    &  0.5625     &  0.59375    &  0.3125     & -0.8125    \\\\\n",
       "\\end{tabular}\n"
      ],
      "text/markdown": [
       "\n",
       "| <!--/--> | mpg | cyl | disp | hp | drat | wt | qsec | vs | am | gear | carb |\n",
       "|---|---|---|---|---|---|---|---|---|---|---|---|\n",
       "| Mazda RX4 |  0.909375   | -0.1875     |  -70.721875 | -36.6875    |  0.3034375  | -0.59725    | -1.38875    | -0.4375     |  0.59375    |  0.3125     |  1.1875     |\n",
       "| Mazda RX4 Wag |  0.909375   | -0.1875     |  -70.721875 | -36.6875    |  0.3034375  | -0.34225    | -0.82875    | -0.4375     |  0.59375    |  0.3125     |  1.1875     |\n",
       "| Datsun 710 |  2.709375   | -2.1875     | -122.721875 | -53.6875    |  0.2534375  | -0.89725    |  0.76125    |  0.5625     |  0.59375    |  0.3125     | -1.8125     |\n",
       "| Hornet 4 Drive |  1.309375   | -0.1875     |   27.278125 | -36.6875    | -0.5165625  | -0.00225    |  1.59125    |  0.5625     | -0.40625    | -0.6875     | -1.8125     |\n",
       "| Hornet Sportabout | -1.390625   |  1.8125     |  129.278125 |  28.3125    | -0.4465625  |  0.22275    | -0.82875    | -0.4375     | -0.40625    | -0.6875     | -0.8125     |\n",
       "| Valiant | -1.990625   | -0.1875     |   -5.721875 | -41.6875    | -0.8365625  |  0.24275    |  2.37125    |  0.5625     | -0.40625    | -0.6875     | -1.8125     |\n",
       "| Duster 360 | -5.790625   |  1.8125     |  129.278125 |  98.3125    | -0.3865625  |  0.35275    | -2.00875    | -0.4375     | -0.40625    | -0.6875     |  1.1875     |\n",
       "| Merc 240D |  4.309375   | -2.1875     |  -84.021875 | -84.6875    |  0.0934375  | -0.02725    |  2.15125    |  0.5625     | -0.40625    |  0.3125     | -0.8125     |\n",
       "| Merc 230 |  2.709375   | -2.1875     |  -89.921875 | -51.6875    |  0.3234375  | -0.06725    |  5.05125    |  0.5625     | -0.40625    |  0.3125     | -0.8125     |\n",
       "| Merc 280 | -0.890625   | -0.1875     |  -63.121875 | -23.6875    |  0.3234375  |  0.22275    |  0.45125    |  0.5625     | -0.40625    |  0.3125     |  1.1875     |\n",
       "| Merc 280C | -2.290625   | -0.1875     |  -63.121875 | -23.6875    |  0.3234375  |  0.22275    |  1.05125    |  0.5625     | -0.40625    |  0.3125     |  1.1875     |\n",
       "| Merc 450SE | -3.690625   |  1.8125     |   45.078125 |  33.3125    | -0.5265625  |  0.85275    | -0.44875    | -0.4375     | -0.40625    | -0.6875     |  0.1875     |\n",
       "| Merc 450SL | -2.790625   |  1.8125     |   45.078125 |  33.3125    | -0.5265625  |  0.51275    | -0.24875    | -0.4375     | -0.40625    | -0.6875     |  0.1875     |\n",
       "| Merc 450SLC | -4.890625   |  1.8125     |   45.078125 |  33.3125    | -0.5265625  |  0.56275    |  0.15125    | -0.4375     | -0.40625    | -0.6875     |  0.1875     |\n",
       "| Cadillac Fleetwood | -9.690625   |  1.8125     |  241.278125 |  58.3125    | -0.6665625  |  2.03275    |  0.13125    | -0.4375     | -0.40625    | -0.6875     |  1.1875     |\n",
       "| Lincoln Continental | -9.690625   |  1.8125     |  229.278125 |  68.3125    | -0.5965625  |  2.20675    | -0.02875    | -0.4375     | -0.40625    | -0.6875     |  1.1875     |\n",
       "| Chrysler Imperial | -5.390625   |  1.8125     |  209.278125 |  83.3125    | -0.3665625  |  2.12775    | -0.42875    | -0.4375     | -0.40625    | -0.6875     |  1.1875     |\n",
       "| Fiat 128 | 12.309375   | -2.1875     | -152.021875 | -80.6875    |  0.4834375  | -1.01725    |  1.62125    |  0.5625     |  0.59375    |  0.3125     | -1.8125     |\n",
       "| Honda Civic | 10.309375   | -2.1875     | -155.021875 | -94.6875    |  1.3334375  | -1.60225    |  0.67125    |  0.5625     |  0.59375    |  0.3125     | -0.8125     |\n",
       "| Toyota Corolla | 13.809375   | -2.1875     | -159.621875 | -81.6875    |  0.6234375  | -1.38225    |  2.05125    |  0.5625     |  0.59375    |  0.3125     | -1.8125     |\n",
       "| Toyota Corona |  1.409375   | -2.1875     | -110.621875 | -49.6875    |  0.1034375  | -0.75225    |  2.16125    |  0.5625     | -0.40625    | -0.6875     | -1.8125     |\n",
       "| Dodge Challenger | -4.590625   |  1.8125     |   87.278125 |   3.3125    | -0.8365625  |  0.30275    | -0.97875    | -0.4375     | -0.40625    | -0.6875     | -0.8125     |\n",
       "| AMC Javelin | -4.890625   |  1.8125     |   73.278125 |   3.3125    | -0.4465625  |  0.21775    | -0.54875    | -0.4375     | -0.40625    | -0.6875     | -0.8125     |\n",
       "| Camaro Z28 | -6.790625   |  1.8125     |  119.278125 |  98.3125    |  0.1334375  |  0.62275    | -2.43875    | -0.4375     | -0.40625    | -0.6875     |  1.1875     |\n",
       "| Pontiac Firebird | -0.890625   |  1.8125     |  169.278125 |  28.3125    | -0.5165625  |  0.62775    | -0.79875    | -0.4375     | -0.40625    | -0.6875     | -0.8125     |\n",
       "| Fiat X1-9 |  7.209375   | -2.1875     | -151.721875 | -80.6875    |  0.4834375  | -1.28225    |  1.05125    |  0.5625     |  0.59375    |  0.3125     | -1.8125     |\n",
       "| Porsche 914-2 |  5.909375   | -2.1875     | -110.421875 | -55.6875    |  0.8334375  | -1.07725    | -1.14875    | -0.4375     |  0.59375    |  1.3125     | -0.8125     |\n",
       "| Lotus Europa | 10.309375   | -2.1875     | -135.621875 | -33.6875    |  0.1734375  | -1.70425    | -0.94875    |  0.5625     |  0.59375    |  1.3125     | -0.8125     |\n",
       "| Ford Pantera L | -4.290625   |  1.8125     |  120.278125 | 117.3125    |  0.6234375  | -0.04725    | -3.34875    | -0.4375     |  0.59375    |  1.3125     |  1.1875     |\n",
       "| Ferrari Dino | -0.390625   | -0.1875     |  -85.721875 |  28.3125    |  0.0234375  | -0.44725    | -2.34875    | -0.4375     |  0.59375    |  1.3125     |  3.1875     |\n",
       "| Maserati Bora | -5.090625   |  1.8125     |   70.278125 | 188.3125    | -0.0565625  |  0.35275    | -3.24875    | -0.4375     |  0.59375    |  1.3125     |  5.1875     |\n",
       "| Volvo 142E |  1.309375   | -2.1875     | -109.721875 | -37.6875    |  0.5134375  | -0.43725    |  0.75125    |  0.5625     |  0.59375    |  0.3125     | -0.8125     |\n",
       "\n"
      ],
      "text/plain": [
       "                    mpg       cyl     disp        hp       drat       wt      \n",
       "Mazda RX4            0.909375 -0.1875  -70.721875 -36.6875  0.3034375 -0.59725\n",
       "Mazda RX4 Wag        0.909375 -0.1875  -70.721875 -36.6875  0.3034375 -0.34225\n",
       "Datsun 710           2.709375 -2.1875 -122.721875 -53.6875  0.2534375 -0.89725\n",
       "Hornet 4 Drive       1.309375 -0.1875   27.278125 -36.6875 -0.5165625 -0.00225\n",
       "Hornet Sportabout   -1.390625  1.8125  129.278125  28.3125 -0.4465625  0.22275\n",
       "Valiant             -1.990625 -0.1875   -5.721875 -41.6875 -0.8365625  0.24275\n",
       "Duster 360          -5.790625  1.8125  129.278125  98.3125 -0.3865625  0.35275\n",
       "Merc 240D            4.309375 -2.1875  -84.021875 -84.6875  0.0934375 -0.02725\n",
       "Merc 230             2.709375 -2.1875  -89.921875 -51.6875  0.3234375 -0.06725\n",
       "Merc 280            -0.890625 -0.1875  -63.121875 -23.6875  0.3234375  0.22275\n",
       "Merc 280C           -2.290625 -0.1875  -63.121875 -23.6875  0.3234375  0.22275\n",
       "Merc 450SE          -3.690625  1.8125   45.078125  33.3125 -0.5265625  0.85275\n",
       "Merc 450SL          -2.790625  1.8125   45.078125  33.3125 -0.5265625  0.51275\n",
       "Merc 450SLC         -4.890625  1.8125   45.078125  33.3125 -0.5265625  0.56275\n",
       "Cadillac Fleetwood  -9.690625  1.8125  241.278125  58.3125 -0.6665625  2.03275\n",
       "Lincoln Continental -9.690625  1.8125  229.278125  68.3125 -0.5965625  2.20675\n",
       "Chrysler Imperial   -5.390625  1.8125  209.278125  83.3125 -0.3665625  2.12775\n",
       "Fiat 128            12.309375 -2.1875 -152.021875 -80.6875  0.4834375 -1.01725\n",
       "Honda Civic         10.309375 -2.1875 -155.021875 -94.6875  1.3334375 -1.60225\n",
       "Toyota Corolla      13.809375 -2.1875 -159.621875 -81.6875  0.6234375 -1.38225\n",
       "Toyota Corona        1.409375 -2.1875 -110.621875 -49.6875  0.1034375 -0.75225\n",
       "Dodge Challenger    -4.590625  1.8125   87.278125   3.3125 -0.8365625  0.30275\n",
       "AMC Javelin         -4.890625  1.8125   73.278125   3.3125 -0.4465625  0.21775\n",
       "Camaro Z28          -6.790625  1.8125  119.278125  98.3125  0.1334375  0.62275\n",
       "Pontiac Firebird    -0.890625  1.8125  169.278125  28.3125 -0.5165625  0.62775\n",
       "Fiat X1-9            7.209375 -2.1875 -151.721875 -80.6875  0.4834375 -1.28225\n",
       "Porsche 914-2        5.909375 -2.1875 -110.421875 -55.6875  0.8334375 -1.07725\n",
       "Lotus Europa        10.309375 -2.1875 -135.621875 -33.6875  0.1734375 -1.70425\n",
       "Ford Pantera L      -4.290625  1.8125  120.278125 117.3125  0.6234375 -0.04725\n",
       "Ferrari Dino        -0.390625 -0.1875  -85.721875  28.3125  0.0234375 -0.44725\n",
       "Maserati Bora       -5.090625  1.8125   70.278125 188.3125 -0.0565625  0.35275\n",
       "Volvo 142E           1.309375 -2.1875 -109.721875 -37.6875  0.5134375 -0.43725\n",
       "                    qsec     vs      am       gear    carb   \n",
       "Mazda RX4           -1.38875 -0.4375  0.59375  0.3125  1.1875\n",
       "Mazda RX4 Wag       -0.82875 -0.4375  0.59375  0.3125  1.1875\n",
       "Datsun 710           0.76125  0.5625  0.59375  0.3125 -1.8125\n",
       "Hornet 4 Drive       1.59125  0.5625 -0.40625 -0.6875 -1.8125\n",
       "Hornet Sportabout   -0.82875 -0.4375 -0.40625 -0.6875 -0.8125\n",
       "Valiant              2.37125  0.5625 -0.40625 -0.6875 -1.8125\n",
       "Duster 360          -2.00875 -0.4375 -0.40625 -0.6875  1.1875\n",
       "Merc 240D            2.15125  0.5625 -0.40625  0.3125 -0.8125\n",
       "Merc 230             5.05125  0.5625 -0.40625  0.3125 -0.8125\n",
       "Merc 280             0.45125  0.5625 -0.40625  0.3125  1.1875\n",
       "Merc 280C            1.05125  0.5625 -0.40625  0.3125  1.1875\n",
       "Merc 450SE          -0.44875 -0.4375 -0.40625 -0.6875  0.1875\n",
       "Merc 450SL          -0.24875 -0.4375 -0.40625 -0.6875  0.1875\n",
       "Merc 450SLC          0.15125 -0.4375 -0.40625 -0.6875  0.1875\n",
       "Cadillac Fleetwood   0.13125 -0.4375 -0.40625 -0.6875  1.1875\n",
       "Lincoln Continental -0.02875 -0.4375 -0.40625 -0.6875  1.1875\n",
       "Chrysler Imperial   -0.42875 -0.4375 -0.40625 -0.6875  1.1875\n",
       "Fiat 128             1.62125  0.5625  0.59375  0.3125 -1.8125\n",
       "Honda Civic          0.67125  0.5625  0.59375  0.3125 -0.8125\n",
       "Toyota Corolla       2.05125  0.5625  0.59375  0.3125 -1.8125\n",
       "Toyota Corona        2.16125  0.5625 -0.40625 -0.6875 -1.8125\n",
       "Dodge Challenger    -0.97875 -0.4375 -0.40625 -0.6875 -0.8125\n",
       "AMC Javelin         -0.54875 -0.4375 -0.40625 -0.6875 -0.8125\n",
       "Camaro Z28          -2.43875 -0.4375 -0.40625 -0.6875  1.1875\n",
       "Pontiac Firebird    -0.79875 -0.4375 -0.40625 -0.6875 -0.8125\n",
       "Fiat X1-9            1.05125  0.5625  0.59375  0.3125 -1.8125\n",
       "Porsche 914-2       -1.14875 -0.4375  0.59375  1.3125 -0.8125\n",
       "Lotus Europa        -0.94875  0.5625  0.59375  1.3125 -0.8125\n",
       "Ford Pantera L      -3.34875 -0.4375  0.59375  1.3125  1.1875\n",
       "Ferrari Dino        -2.34875 -0.4375  0.59375  1.3125  3.1875\n",
       "Maserati Bora       -3.24875 -0.4375  0.59375  1.3125  5.1875\n",
       "Volvo 142E           0.75125  0.5625  0.59375  0.3125 -0.8125"
      ]
     },
     "metadata": {},
     "output_type": "display_data"
    }
   ],
   "source": [
    "apply(Xc,2,function(val){val-mean(val)})"
   ]
  },
  {
   "cell_type": "code",
   "execution_count": 67,
   "metadata": {},
   "outputs": [
    {
     "data": {
      "text/html": [
       "<dl class=dl-horizontal>\n",
       "\t<dt>mpg</dt>\n",
       "\t\t<dd>35.188974609375</dd>\n",
       "\t<dt>cyl</dt>\n",
       "\t\t<dd>3.08984375</dd>\n",
       "\t<dt>disp</dt>\n",
       "\t\t<dd>14880.7748339844</dd>\n",
       "\t<dt>hp</dt>\n",
       "\t\t<dd>4553.96484375</dd>\n",
       "\t<dt>drat</dt>\n",
       "\t\t<dd>0.27694755859375</dd>\n",
       "\t<dt>wt</dt>\n",
       "\t\t<dd>0.927460875</dd>\n",
       "\t<dt>qsec</dt>\n",
       "\t\t<dd>3.0933796875</dd>\n",
       "\t<dt>vs</dt>\n",
       "\t\t<dd>0.24609375</dd>\n",
       "\t<dt>am</dt>\n",
       "\t\t<dd>0.2412109375</dd>\n",
       "\t<dt>gear</dt>\n",
       "\t\t<dd>0.52734375</dd>\n",
       "\t<dt>carb</dt>\n",
       "\t\t<dd>2.52734375</dd>\n",
       "</dl>\n"
      ],
      "text/latex": [
       "\\begin{description*}\n",
       "\\item[mpg] 35.188974609375\n",
       "\\item[cyl] 3.08984375\n",
       "\\item[disp] 14880.7748339844\n",
       "\\item[hp] 4553.96484375\n",
       "\\item[drat] 0.27694755859375\n",
       "\\item[wt] 0.927460875\n",
       "\\item[qsec] 3.0933796875\n",
       "\\item[vs] 0.24609375\n",
       "\\item[am] 0.2412109375\n",
       "\\item[gear] 0.52734375\n",
       "\\item[carb] 2.52734375\n",
       "\\end{description*}\n"
      ],
      "text/markdown": [
       "mpg\n",
       ":   35.188974609375cyl\n",
       ":   3.08984375disp\n",
       ":   14880.7748339844hp\n",
       ":   4553.96484375drat\n",
       ":   0.27694755859375wt\n",
       ":   0.927460875qsec\n",
       ":   3.0933796875vs\n",
       ":   0.24609375am\n",
       ":   0.2412109375gear\n",
       ":   0.52734375carb\n",
       ":   2.52734375\n",
       "\n"
      ],
      "text/plain": [
       "         mpg          cyl         disp           hp         drat           wt \n",
       "3.518897e+01 3.089844e+00 1.488077e+04 4.553965e+03 2.769476e-01 9.274609e-01 \n",
       "        qsec           vs           am         gear         carb \n",
       "3.093380e+00 2.460938e-01 2.412109e-01 5.273438e-01 2.527344e+00 "
      ]
     },
     "metadata": {},
     "output_type": "display_data"
    }
   ],
   "source": [
    "apply(X,2,function(val){sum((val-mean(val))^2)/length(val)})"
   ]
  },
  {
   "cell_type": "code",
   "execution_count": 71,
   "metadata": {},
   "outputs": [
    {
     "data": {
      "text/html": [
       "-8.8857421875"
      ],
      "text/latex": [
       "-8.8857421875"
      ],
      "text/markdown": [
       "-8.8857421875"
      ],
      "text/plain": [
       "[1] -8.885742"
      ]
     },
     "metadata": {},
     "output_type": "display_data"
    }
   ],
   "source": [
    "a = X[,1]\n",
    "b = X[,2]\n",
    "sum((a-mean(a))*(b-mean(b)))/length(a)"
   ]
  },
  {
   "cell_type": "code",
   "execution_count": 80,
   "metadata": {},
   "outputs": [
    {
     "data": {
      "text/html": [
       "32"
      ],
      "text/latex": [
       "32"
      ],
      "text/markdown": [
       "32"
      ],
      "text/plain": [
       "[1] 32"
      ]
     },
     "metadata": {},
     "output_type": "display_data"
    },
    {
     "data": {
      "text/html": [
       "<table>\n",
       "<thead><tr><th></th><th scope=col>mpg</th><th scope=col>cyl</th><th scope=col>disp</th><th scope=col>hp</th><th scope=col>drat</th><th scope=col>wt</th><th scope=col>qsec</th><th scope=col>vs</th><th scope=col>am</th><th scope=col>gear</th><th scope=col>carb</th></tr></thead>\n",
       "<tbody>\n",
       "\t<tr><th scope=row>Mazda RX4</th><td>23.0 </td><td>6    </td><td>160.0</td><td>110  </td><td>3.90 </td><td>2.620</td><td>16.46</td><td>0    </td><td>1    </td><td>4    </td><td>4    </td></tr>\n",
       "\t<tr><th scope=row>Mazda RX4 Wag</th><td>23.0 </td><td>6    </td><td>160.0</td><td>110  </td><td>3.90 </td><td>2.875</td><td>17.02</td><td>0    </td><td>1    </td><td>4    </td><td>4    </td></tr>\n",
       "\t<tr><th scope=row>Datsun 710</th><td>24.8 </td><td>4    </td><td>108.0</td><td> 93  </td><td>3.85 </td><td>2.320</td><td>18.61</td><td>1    </td><td>1    </td><td>4    </td><td>1    </td></tr>\n",
       "\t<tr><th scope=row>Hornet 4 Drive</th><td>23.4 </td><td>6    </td><td>258.0</td><td>110  </td><td>3.08 </td><td>3.215</td><td>19.44</td><td>1    </td><td>0    </td><td>3    </td><td>1    </td></tr>\n",
       "\t<tr><th scope=row>Hornet Sportabout</th><td>20.7 </td><td>8    </td><td>360.0</td><td>175  </td><td>3.15 </td><td>3.440</td><td>17.02</td><td>0    </td><td>0    </td><td>3    </td><td>2    </td></tr>\n",
       "\t<tr><th scope=row>Valiant</th><td>18.1 </td><td>6    </td><td>225.0</td><td>105  </td><td>2.76 </td><td>3.460</td><td>20.22</td><td>1    </td><td>0    </td><td>3    </td><td>1    </td></tr>\n",
       "\t<tr><th scope=row>Duster 360</th><td>14.3 </td><td>8    </td><td>360.0</td><td>245  </td><td>3.21 </td><td>3.570</td><td>15.84</td><td>0    </td><td>0    </td><td>3    </td><td>4    </td></tr>\n",
       "\t<tr><th scope=row>Merc 240D</th><td>24.4 </td><td>4    </td><td>146.7</td><td> 62  </td><td>3.69 </td><td>3.190</td><td>20.00</td><td>1    </td><td>0    </td><td>4    </td><td>2    </td></tr>\n",
       "\t<tr><th scope=row>Merc 230</th><td>22.8 </td><td>4    </td><td>140.8</td><td> 95  </td><td>3.92 </td><td>3.150</td><td>22.90</td><td>1    </td><td>0    </td><td>4    </td><td>2    </td></tr>\n",
       "\t<tr><th scope=row>Merc 280</th><td>19.2 </td><td>6    </td><td>167.6</td><td>123  </td><td>3.92 </td><td>3.440</td><td>18.30</td><td>1    </td><td>0    </td><td>4    </td><td>4    </td></tr>\n",
       "\t<tr><th scope=row>Merc 280C</th><td>17.8 </td><td>6    </td><td>167.6</td><td>123  </td><td>3.92 </td><td>3.440</td><td>18.90</td><td>1    </td><td>0    </td><td>4    </td><td>4    </td></tr>\n",
       "\t<tr><th scope=row>Merc 450SE</th><td>16.4 </td><td>8    </td><td>275.8</td><td>180  </td><td>3.07 </td><td>4.070</td><td>17.40</td><td>0    </td><td>0    </td><td>3    </td><td>3    </td></tr>\n",
       "\t<tr><th scope=row>Merc 450SL</th><td>17.3 </td><td>8    </td><td>275.8</td><td>180  </td><td>3.07 </td><td>3.730</td><td>17.60</td><td>0    </td><td>0    </td><td>3    </td><td>3    </td></tr>\n",
       "\t<tr><th scope=row>Merc 450SLC</th><td>15.2 </td><td>8    </td><td>275.8</td><td>180  </td><td>3.07 </td><td>3.780</td><td>18.00</td><td>0    </td><td>0    </td><td>3    </td><td>3    </td></tr>\n",
       "\t<tr><th scope=row>Cadillac Fleetwood</th><td>10.4 </td><td>8    </td><td>472.0</td><td>205  </td><td>2.93 </td><td>5.250</td><td>17.98</td><td>0    </td><td>0    </td><td>3    </td><td>4    </td></tr>\n",
       "\t<tr><th scope=row>Lincoln Continental</th><td>10.4 </td><td>8    </td><td>460.0</td><td>215  </td><td>3.00 </td><td>5.424</td><td>17.82</td><td>0    </td><td>0    </td><td>3    </td><td>4    </td></tr>\n",
       "\t<tr><th scope=row>Chrysler Imperial</th><td>14.7 </td><td>8    </td><td>440.0</td><td>230  </td><td>3.23 </td><td>5.345</td><td>17.42</td><td>0    </td><td>0    </td><td>3    </td><td>4    </td></tr>\n",
       "\t<tr><th scope=row>Fiat 128</th><td>32.4 </td><td>4    </td><td> 78.7</td><td> 66  </td><td>4.08 </td><td>2.200</td><td>19.47</td><td>1    </td><td>1    </td><td>4    </td><td>1    </td></tr>\n",
       "\t<tr><th scope=row>Honda Civic</th><td>30.4 </td><td>4    </td><td> 75.7</td><td> 52  </td><td>4.93 </td><td>1.615</td><td>18.52</td><td>1    </td><td>1    </td><td>4    </td><td>2    </td></tr>\n",
       "\t<tr><th scope=row>Toyota Corolla</th><td>33.9 </td><td>4    </td><td> 71.1</td><td> 65  </td><td>4.22 </td><td>1.835</td><td>19.90</td><td>1    </td><td>1    </td><td>4    </td><td>1    </td></tr>\n",
       "\t<tr><th scope=row>Toyota Corona</th><td>21.5 </td><td>4    </td><td>120.1</td><td> 97  </td><td>3.70 </td><td>2.465</td><td>20.01</td><td>1    </td><td>0    </td><td>3    </td><td>1    </td></tr>\n",
       "\t<tr><th scope=row>Dodge Challenger</th><td>15.5 </td><td>8    </td><td>318.0</td><td>150  </td><td>2.76 </td><td>3.520</td><td>16.87</td><td>0    </td><td>0    </td><td>3    </td><td>2    </td></tr>\n",
       "\t<tr><th scope=row>AMC Javelin</th><td>15.2 </td><td>8    </td><td>304.0</td><td>150  </td><td>3.15 </td><td>3.435</td><td>17.30</td><td>0    </td><td>0    </td><td>3    </td><td>2    </td></tr>\n",
       "\t<tr><th scope=row>Camaro Z28</th><td>13.3 </td><td>8    </td><td>350.0</td><td>245  </td><td>3.73 </td><td>3.840</td><td>15.41</td><td>0    </td><td>0    </td><td>3    </td><td>4    </td></tr>\n",
       "\t<tr><th scope=row>Pontiac Firebird</th><td>19.2 </td><td>8    </td><td>400.0</td><td>175  </td><td>3.08 </td><td>3.845</td><td>17.05</td><td>0    </td><td>0    </td><td>3    </td><td>2    </td></tr>\n",
       "\t<tr><th scope=row>Fiat X1-9</th><td>27.3 </td><td>4    </td><td> 79.0</td><td> 66  </td><td>4.08 </td><td>1.935</td><td>18.90</td><td>1    </td><td>1    </td><td>4    </td><td>1    </td></tr>\n",
       "\t<tr><th scope=row>Porsche 914-2</th><td>26.0 </td><td>4    </td><td>120.3</td><td> 91  </td><td>4.43 </td><td>2.140</td><td>16.70</td><td>0    </td><td>1    </td><td>5    </td><td>2    </td></tr>\n",
       "\t<tr><th scope=row>Lotus Europa</th><td>30.4 </td><td>4    </td><td> 95.1</td><td>113  </td><td>3.77 </td><td>1.513</td><td>16.90</td><td>1    </td><td>1    </td><td>5    </td><td>2    </td></tr>\n",
       "\t<tr><th scope=row>Ford Pantera L</th><td>15.8 </td><td>8    </td><td>351.0</td><td>264  </td><td>4.22 </td><td>3.170</td><td>14.50</td><td>0    </td><td>1    </td><td>5    </td><td>4    </td></tr>\n",
       "\t<tr><th scope=row>Ferrari Dino</th><td>19.7 </td><td>6    </td><td>145.0</td><td>175  </td><td>3.62 </td><td>2.770</td><td>15.50</td><td>0    </td><td>1    </td><td>5    </td><td>6    </td></tr>\n",
       "\t<tr><th scope=row>Maserati Bora</th><td>15.0 </td><td>8    </td><td>301.0</td><td>335  </td><td>3.54 </td><td>3.570</td><td>14.60</td><td>0    </td><td>1    </td><td>5    </td><td>8    </td></tr>\n",
       "\t<tr><th scope=row>Volvo 142E</th><td>21.4 </td><td>4    </td><td>121.0</td><td>109  </td><td>4.11 </td><td>2.780</td><td>18.60</td><td>1    </td><td>1    </td><td>4    </td><td>2    </td></tr>\n",
       "</tbody>\n",
       "</table>\n"
      ],
      "text/latex": [
       "\\begin{tabular}{r|lllllllllll}\n",
       "  & mpg & cyl & disp & hp & drat & wt & qsec & vs & am & gear & carb\\\\\n",
       "\\hline\n",
       "\tMazda RX4 & 23.0  & 6     & 160.0 & 110   & 3.90  & 2.620 & 16.46 & 0     & 1     & 4     & 4    \\\\\n",
       "\tMazda RX4 Wag & 23.0  & 6     & 160.0 & 110   & 3.90  & 2.875 & 17.02 & 0     & 1     & 4     & 4    \\\\\n",
       "\tDatsun 710 & 24.8  & 4     & 108.0 &  93   & 3.85  & 2.320 & 18.61 & 1     & 1     & 4     & 1    \\\\\n",
       "\tHornet 4 Drive & 23.4  & 6     & 258.0 & 110   & 3.08  & 3.215 & 19.44 & 1     & 0     & 3     & 1    \\\\\n",
       "\tHornet Sportabout & 20.7  & 8     & 360.0 & 175   & 3.15  & 3.440 & 17.02 & 0     & 0     & 3     & 2    \\\\\n",
       "\tValiant & 18.1  & 6     & 225.0 & 105   & 2.76  & 3.460 & 20.22 & 1     & 0     & 3     & 1    \\\\\n",
       "\tDuster 360 & 14.3  & 8     & 360.0 & 245   & 3.21  & 3.570 & 15.84 & 0     & 0     & 3     & 4    \\\\\n",
       "\tMerc 240D & 24.4  & 4     & 146.7 &  62   & 3.69  & 3.190 & 20.00 & 1     & 0     & 4     & 2    \\\\\n",
       "\tMerc 230 & 22.8  & 4     & 140.8 &  95   & 3.92  & 3.150 & 22.90 & 1     & 0     & 4     & 2    \\\\\n",
       "\tMerc 280 & 19.2  & 6     & 167.6 & 123   & 3.92  & 3.440 & 18.30 & 1     & 0     & 4     & 4    \\\\\n",
       "\tMerc 280C & 17.8  & 6     & 167.6 & 123   & 3.92  & 3.440 & 18.90 & 1     & 0     & 4     & 4    \\\\\n",
       "\tMerc 450SE & 16.4  & 8     & 275.8 & 180   & 3.07  & 4.070 & 17.40 & 0     & 0     & 3     & 3    \\\\\n",
       "\tMerc 450SL & 17.3  & 8     & 275.8 & 180   & 3.07  & 3.730 & 17.60 & 0     & 0     & 3     & 3    \\\\\n",
       "\tMerc 450SLC & 15.2  & 8     & 275.8 & 180   & 3.07  & 3.780 & 18.00 & 0     & 0     & 3     & 3    \\\\\n",
       "\tCadillac Fleetwood & 10.4  & 8     & 472.0 & 205   & 2.93  & 5.250 & 17.98 & 0     & 0     & 3     & 4    \\\\\n",
       "\tLincoln Continental & 10.4  & 8     & 460.0 & 215   & 3.00  & 5.424 & 17.82 & 0     & 0     & 3     & 4    \\\\\n",
       "\tChrysler Imperial & 14.7  & 8     & 440.0 & 230   & 3.23  & 5.345 & 17.42 & 0     & 0     & 3     & 4    \\\\\n",
       "\tFiat 128 & 32.4  & 4     &  78.7 &  66   & 4.08  & 2.200 & 19.47 & 1     & 1     & 4     & 1    \\\\\n",
       "\tHonda Civic & 30.4  & 4     &  75.7 &  52   & 4.93  & 1.615 & 18.52 & 1     & 1     & 4     & 2    \\\\\n",
       "\tToyota Corolla & 33.9  & 4     &  71.1 &  65   & 4.22  & 1.835 & 19.90 & 1     & 1     & 4     & 1    \\\\\n",
       "\tToyota Corona & 21.5  & 4     & 120.1 &  97   & 3.70  & 2.465 & 20.01 & 1     & 0     & 3     & 1    \\\\\n",
       "\tDodge Challenger & 15.5  & 8     & 318.0 & 150   & 2.76  & 3.520 & 16.87 & 0     & 0     & 3     & 2    \\\\\n",
       "\tAMC Javelin & 15.2  & 8     & 304.0 & 150   & 3.15  & 3.435 & 17.30 & 0     & 0     & 3     & 2    \\\\\n",
       "\tCamaro Z28 & 13.3  & 8     & 350.0 & 245   & 3.73  & 3.840 & 15.41 & 0     & 0     & 3     & 4    \\\\\n",
       "\tPontiac Firebird & 19.2  & 8     & 400.0 & 175   & 3.08  & 3.845 & 17.05 & 0     & 0     & 3     & 2    \\\\\n",
       "\tFiat X1-9 & 27.3  & 4     &  79.0 &  66   & 4.08  & 1.935 & 18.90 & 1     & 1     & 4     & 1    \\\\\n",
       "\tPorsche 914-2 & 26.0  & 4     & 120.3 &  91   & 4.43  & 2.140 & 16.70 & 0     & 1     & 5     & 2    \\\\\n",
       "\tLotus Europa & 30.4  & 4     &  95.1 & 113   & 3.77  & 1.513 & 16.90 & 1     & 1     & 5     & 2    \\\\\n",
       "\tFord Pantera L & 15.8  & 8     & 351.0 & 264   & 4.22  & 3.170 & 14.50 & 0     & 1     & 5     & 4    \\\\\n",
       "\tFerrari Dino & 19.7  & 6     & 145.0 & 175   & 3.62  & 2.770 & 15.50 & 0     & 1     & 5     & 6    \\\\\n",
       "\tMaserati Bora & 15.0  & 8     & 301.0 & 335   & 3.54  & 3.570 & 14.60 & 0     & 1     & 5     & 8    \\\\\n",
       "\tVolvo 142E & 21.4  & 4     & 121.0 & 109   & 4.11  & 2.780 & 18.60 & 1     & 1     & 4     & 2    \\\\\n",
       "\\end{tabular}\n"
      ],
      "text/markdown": [
       "\n",
       "| <!--/--> | mpg | cyl | disp | hp | drat | wt | qsec | vs | am | gear | carb |\n",
       "|---|---|---|---|---|---|---|---|---|---|---|---|\n",
       "| Mazda RX4 | 23.0  | 6     | 160.0 | 110   | 3.90  | 2.620 | 16.46 | 0     | 1     | 4     | 4     |\n",
       "| Mazda RX4 Wag | 23.0  | 6     | 160.0 | 110   | 3.90  | 2.875 | 17.02 | 0     | 1     | 4     | 4     |\n",
       "| Datsun 710 | 24.8  | 4     | 108.0 |  93   | 3.85  | 2.320 | 18.61 | 1     | 1     | 4     | 1     |\n",
       "| Hornet 4 Drive | 23.4  | 6     | 258.0 | 110   | 3.08  | 3.215 | 19.44 | 1     | 0     | 3     | 1     |\n",
       "| Hornet Sportabout | 20.7  | 8     | 360.0 | 175   | 3.15  | 3.440 | 17.02 | 0     | 0     | 3     | 2     |\n",
       "| Valiant | 18.1  | 6     | 225.0 | 105   | 2.76  | 3.460 | 20.22 | 1     | 0     | 3     | 1     |\n",
       "| Duster 360 | 14.3  | 8     | 360.0 | 245   | 3.21  | 3.570 | 15.84 | 0     | 0     | 3     | 4     |\n",
       "| Merc 240D | 24.4  | 4     | 146.7 |  62   | 3.69  | 3.190 | 20.00 | 1     | 0     | 4     | 2     |\n",
       "| Merc 230 | 22.8  | 4     | 140.8 |  95   | 3.92  | 3.150 | 22.90 | 1     | 0     | 4     | 2     |\n",
       "| Merc 280 | 19.2  | 6     | 167.6 | 123   | 3.92  | 3.440 | 18.30 | 1     | 0     | 4     | 4     |\n",
       "| Merc 280C | 17.8  | 6     | 167.6 | 123   | 3.92  | 3.440 | 18.90 | 1     | 0     | 4     | 4     |\n",
       "| Merc 450SE | 16.4  | 8     | 275.8 | 180   | 3.07  | 4.070 | 17.40 | 0     | 0     | 3     | 3     |\n",
       "| Merc 450SL | 17.3  | 8     | 275.8 | 180   | 3.07  | 3.730 | 17.60 | 0     | 0     | 3     | 3     |\n",
       "| Merc 450SLC | 15.2  | 8     | 275.8 | 180   | 3.07  | 3.780 | 18.00 | 0     | 0     | 3     | 3     |\n",
       "| Cadillac Fleetwood | 10.4  | 8     | 472.0 | 205   | 2.93  | 5.250 | 17.98 | 0     | 0     | 3     | 4     |\n",
       "| Lincoln Continental | 10.4  | 8     | 460.0 | 215   | 3.00  | 5.424 | 17.82 | 0     | 0     | 3     | 4     |\n",
       "| Chrysler Imperial | 14.7  | 8     | 440.0 | 230   | 3.23  | 5.345 | 17.42 | 0     | 0     | 3     | 4     |\n",
       "| Fiat 128 | 32.4  | 4     |  78.7 |  66   | 4.08  | 2.200 | 19.47 | 1     | 1     | 4     | 1     |\n",
       "| Honda Civic | 30.4  | 4     |  75.7 |  52   | 4.93  | 1.615 | 18.52 | 1     | 1     | 4     | 2     |\n",
       "| Toyota Corolla | 33.9  | 4     |  71.1 |  65   | 4.22  | 1.835 | 19.90 | 1     | 1     | 4     | 1     |\n",
       "| Toyota Corona | 21.5  | 4     | 120.1 |  97   | 3.70  | 2.465 | 20.01 | 1     | 0     | 3     | 1     |\n",
       "| Dodge Challenger | 15.5  | 8     | 318.0 | 150   | 2.76  | 3.520 | 16.87 | 0     | 0     | 3     | 2     |\n",
       "| AMC Javelin | 15.2  | 8     | 304.0 | 150   | 3.15  | 3.435 | 17.30 | 0     | 0     | 3     | 2     |\n",
       "| Camaro Z28 | 13.3  | 8     | 350.0 | 245   | 3.73  | 3.840 | 15.41 | 0     | 0     | 3     | 4     |\n",
       "| Pontiac Firebird | 19.2  | 8     | 400.0 | 175   | 3.08  | 3.845 | 17.05 | 0     | 0     | 3     | 2     |\n",
       "| Fiat X1-9 | 27.3  | 4     |  79.0 |  66   | 4.08  | 1.935 | 18.90 | 1     | 1     | 4     | 1     |\n",
       "| Porsche 914-2 | 26.0  | 4     | 120.3 |  91   | 4.43  | 2.140 | 16.70 | 0     | 1     | 5     | 2     |\n",
       "| Lotus Europa | 30.4  | 4     |  95.1 | 113   | 3.77  | 1.513 | 16.90 | 1     | 1     | 5     | 2     |\n",
       "| Ford Pantera L | 15.8  | 8     | 351.0 | 264   | 4.22  | 3.170 | 14.50 | 0     | 1     | 5     | 4     |\n",
       "| Ferrari Dino | 19.7  | 6     | 145.0 | 175   | 3.62  | 2.770 | 15.50 | 0     | 1     | 5     | 6     |\n",
       "| Maserati Bora | 15.0  | 8     | 301.0 | 335   | 3.54  | 3.570 | 14.60 | 0     | 1     | 5     | 8     |\n",
       "| Volvo 142E | 21.4  | 4     | 121.0 | 109   | 4.11  | 2.780 | 18.60 | 1     | 1     | 4     | 2     |\n",
       "\n"
      ],
      "text/plain": [
       "                    mpg  cyl disp  hp  drat wt    qsec  vs am gear carb\n",
       "Mazda RX4           23.0 6   160.0 110 3.90 2.620 16.46 0  1  4    4   \n",
       "Mazda RX4 Wag       23.0 6   160.0 110 3.90 2.875 17.02 0  1  4    4   \n",
       "Datsun 710          24.8 4   108.0  93 3.85 2.320 18.61 1  1  4    1   \n",
       "Hornet 4 Drive      23.4 6   258.0 110 3.08 3.215 19.44 1  0  3    1   \n",
       "Hornet Sportabout   20.7 8   360.0 175 3.15 3.440 17.02 0  0  3    2   \n",
       "Valiant             18.1 6   225.0 105 2.76 3.460 20.22 1  0  3    1   \n",
       "Duster 360          14.3 8   360.0 245 3.21 3.570 15.84 0  0  3    4   \n",
       "Merc 240D           24.4 4   146.7  62 3.69 3.190 20.00 1  0  4    2   \n",
       "Merc 230            22.8 4   140.8  95 3.92 3.150 22.90 1  0  4    2   \n",
       "Merc 280            19.2 6   167.6 123 3.92 3.440 18.30 1  0  4    4   \n",
       "Merc 280C           17.8 6   167.6 123 3.92 3.440 18.90 1  0  4    4   \n",
       "Merc 450SE          16.4 8   275.8 180 3.07 4.070 17.40 0  0  3    3   \n",
       "Merc 450SL          17.3 8   275.8 180 3.07 3.730 17.60 0  0  3    3   \n",
       "Merc 450SLC         15.2 8   275.8 180 3.07 3.780 18.00 0  0  3    3   \n",
       "Cadillac Fleetwood  10.4 8   472.0 205 2.93 5.250 17.98 0  0  3    4   \n",
       "Lincoln Continental 10.4 8   460.0 215 3.00 5.424 17.82 0  0  3    4   \n",
       "Chrysler Imperial   14.7 8   440.0 230 3.23 5.345 17.42 0  0  3    4   \n",
       "Fiat 128            32.4 4    78.7  66 4.08 2.200 19.47 1  1  4    1   \n",
       "Honda Civic         30.4 4    75.7  52 4.93 1.615 18.52 1  1  4    2   \n",
       "Toyota Corolla      33.9 4    71.1  65 4.22 1.835 19.90 1  1  4    1   \n",
       "Toyota Corona       21.5 4   120.1  97 3.70 2.465 20.01 1  0  3    1   \n",
       "Dodge Challenger    15.5 8   318.0 150 2.76 3.520 16.87 0  0  3    2   \n",
       "AMC Javelin         15.2 8   304.0 150 3.15 3.435 17.30 0  0  3    2   \n",
       "Camaro Z28          13.3 8   350.0 245 3.73 3.840 15.41 0  0  3    4   \n",
       "Pontiac Firebird    19.2 8   400.0 175 3.08 3.845 17.05 0  0  3    2   \n",
       "Fiat X1-9           27.3 4    79.0  66 4.08 1.935 18.90 1  1  4    1   \n",
       "Porsche 914-2       26.0 4   120.3  91 4.43 2.140 16.70 0  1  5    2   \n",
       "Lotus Europa        30.4 4    95.1 113 3.77 1.513 16.90 1  1  5    2   \n",
       "Ford Pantera L      15.8 8   351.0 264 4.22 3.170 14.50 0  1  5    4   \n",
       "Ferrari Dino        19.7 6   145.0 175 3.62 2.770 15.50 0  1  5    6   \n",
       "Maserati Bora       15.0 8   301.0 335 3.54 3.570 14.60 0  1  5    8   \n",
       "Volvo 142E          21.4 4   121.0 109 4.11 2.780 18.60 1  1  4    2   "
      ]
     },
     "metadata": {},
     "output_type": "display_data"
    }
   ],
   "source": [
    "length(a)\n",
    "X"
   ]
  },
  {
   "cell_type": "code",
   "execution_count": 81,
   "metadata": {},
   "outputs": [
    {
     "data": {
      "text/html": [
       "<table>\n",
       "<thead><tr><th></th><th scope=col>mpg</th><th scope=col>cyl</th><th scope=col>disp</th><th scope=col>hp</th><th scope=col>drat</th><th scope=col>wt</th><th scope=col>qsec</th><th scope=col>vs</th><th scope=col>am</th><th scope=col>gear</th><th scope=col>carb</th></tr></thead>\n",
       "<tbody>\n",
       "\t<tr><th scope=row>Mazda RX4</th><td>24.0 </td><td>6    </td><td>160.0</td><td>110  </td><td>3.90 </td><td>2.620</td><td>16.46</td><td>0    </td><td>1    </td><td>4    </td><td>4    </td></tr>\n",
       "\t<tr><th scope=row>Mazda RX4 Wag</th><td>24.0 </td><td>6    </td><td>160.0</td><td>110  </td><td>3.90 </td><td>2.875</td><td>17.02</td><td>0    </td><td>1    </td><td>4    </td><td>4    </td></tr>\n",
       "\t<tr><th scope=row>Datsun 710</th><td>25.8 </td><td>4    </td><td>108.0</td><td> 93  </td><td>3.85 </td><td>2.320</td><td>18.61</td><td>1    </td><td>1    </td><td>4    </td><td>1    </td></tr>\n",
       "\t<tr><th scope=row>Hornet 4 Drive</th><td>24.4 </td><td>6    </td><td>258.0</td><td>110  </td><td>3.08 </td><td>3.215</td><td>19.44</td><td>1    </td><td>0    </td><td>3    </td><td>1    </td></tr>\n",
       "\t<tr><th scope=row>Hornet Sportabout</th><td>21.7 </td><td>8    </td><td>360.0</td><td>175  </td><td>3.15 </td><td>3.440</td><td>17.02</td><td>0    </td><td>0    </td><td>3    </td><td>2    </td></tr>\n",
       "\t<tr><th scope=row>Valiant</th><td>18.1 </td><td>6    </td><td>225.0</td><td>105  </td><td>2.76 </td><td>3.460</td><td>20.22</td><td>1    </td><td>0    </td><td>3    </td><td>1    </td></tr>\n",
       "\t<tr><th scope=row>Duster 360</th><td>14.3 </td><td>8    </td><td>360.0</td><td>245  </td><td>3.21 </td><td>3.570</td><td>15.84</td><td>0    </td><td>0    </td><td>3    </td><td>4    </td></tr>\n",
       "\t<tr><th scope=row>Merc 240D</th><td>24.4 </td><td>4    </td><td>146.7</td><td> 62  </td><td>3.69 </td><td>3.190</td><td>20.00</td><td>1    </td><td>0    </td><td>4    </td><td>2    </td></tr>\n",
       "\t<tr><th scope=row>Merc 230</th><td>22.8 </td><td>4    </td><td>140.8</td><td> 95  </td><td>3.92 </td><td>3.150</td><td>22.90</td><td>1    </td><td>0    </td><td>4    </td><td>2    </td></tr>\n",
       "\t<tr><th scope=row>Merc 280</th><td>19.2 </td><td>6    </td><td>167.6</td><td>123  </td><td>3.92 </td><td>3.440</td><td>18.30</td><td>1    </td><td>0    </td><td>4    </td><td>4    </td></tr>\n",
       "\t<tr><th scope=row>Merc 280C</th><td>17.8 </td><td>6    </td><td>167.6</td><td>123  </td><td>3.92 </td><td>3.440</td><td>18.90</td><td>1    </td><td>0    </td><td>4    </td><td>4    </td></tr>\n",
       "\t<tr><th scope=row>Merc 450SE</th><td>16.4 </td><td>8    </td><td>275.8</td><td>180  </td><td>3.07 </td><td>4.070</td><td>17.40</td><td>0    </td><td>0    </td><td>3    </td><td>3    </td></tr>\n",
       "\t<tr><th scope=row>Merc 450SL</th><td>17.3 </td><td>8    </td><td>275.8</td><td>180  </td><td>3.07 </td><td>3.730</td><td>17.60</td><td>0    </td><td>0    </td><td>3    </td><td>3    </td></tr>\n",
       "\t<tr><th scope=row>Merc 450SLC</th><td>15.2 </td><td>8    </td><td>275.8</td><td>180  </td><td>3.07 </td><td>3.780</td><td>18.00</td><td>0    </td><td>0    </td><td>3    </td><td>3    </td></tr>\n",
       "\t<tr><th scope=row>Cadillac Fleetwood</th><td>10.4 </td><td>8    </td><td>472.0</td><td>205  </td><td>2.93 </td><td>5.250</td><td>17.98</td><td>0    </td><td>0    </td><td>3    </td><td>4    </td></tr>\n",
       "\t<tr><th scope=row>Lincoln Continental</th><td>10.4 </td><td>8    </td><td>460.0</td><td>215  </td><td>3.00 </td><td>5.424</td><td>17.82</td><td>0    </td><td>0    </td><td>3    </td><td>4    </td></tr>\n",
       "\t<tr><th scope=row>Chrysler Imperial</th><td>14.7 </td><td>8    </td><td>440.0</td><td>230  </td><td>3.23 </td><td>5.345</td><td>17.42</td><td>0    </td><td>0    </td><td>3    </td><td>4    </td></tr>\n",
       "\t<tr><th scope=row>Fiat 128</th><td>32.4 </td><td>4    </td><td> 78.7</td><td> 66  </td><td>4.08 </td><td>2.200</td><td>19.47</td><td>1    </td><td>1    </td><td>4    </td><td>1    </td></tr>\n",
       "\t<tr><th scope=row>Honda Civic</th><td>30.4 </td><td>4    </td><td> 75.7</td><td> 52  </td><td>4.93 </td><td>1.615</td><td>18.52</td><td>1    </td><td>1    </td><td>4    </td><td>2    </td></tr>\n",
       "\t<tr><th scope=row>Toyota Corolla</th><td>33.9 </td><td>4    </td><td> 71.1</td><td> 65  </td><td>4.22 </td><td>1.835</td><td>19.90</td><td>1    </td><td>1    </td><td>4    </td><td>1    </td></tr>\n",
       "\t<tr><th scope=row>Toyota Corona</th><td>21.5 </td><td>4    </td><td>120.1</td><td> 97  </td><td>3.70 </td><td>2.465</td><td>20.01</td><td>1    </td><td>0    </td><td>3    </td><td>1    </td></tr>\n",
       "\t<tr><th scope=row>Dodge Challenger</th><td>15.5 </td><td>8    </td><td>318.0</td><td>150  </td><td>2.76 </td><td>3.520</td><td>16.87</td><td>0    </td><td>0    </td><td>3    </td><td>2    </td></tr>\n",
       "\t<tr><th scope=row>AMC Javelin</th><td>15.2 </td><td>8    </td><td>304.0</td><td>150  </td><td>3.15 </td><td>3.435</td><td>17.30</td><td>0    </td><td>0    </td><td>3    </td><td>2    </td></tr>\n",
       "\t<tr><th scope=row>Camaro Z28</th><td>13.3 </td><td>8    </td><td>350.0</td><td>245  </td><td>3.73 </td><td>3.840</td><td>15.41</td><td>0    </td><td>0    </td><td>3    </td><td>4    </td></tr>\n",
       "\t<tr><th scope=row>Pontiac Firebird</th><td>19.2 </td><td>8    </td><td>400.0</td><td>175  </td><td>3.08 </td><td>3.845</td><td>17.05</td><td>0    </td><td>0    </td><td>3    </td><td>2    </td></tr>\n",
       "\t<tr><th scope=row>Fiat X1-9</th><td>27.3 </td><td>4    </td><td> 79.0</td><td> 66  </td><td>4.08 </td><td>1.935</td><td>18.90</td><td>1    </td><td>1    </td><td>4    </td><td>1    </td></tr>\n",
       "\t<tr><th scope=row>Porsche 914-2</th><td>26.0 </td><td>4    </td><td>120.3</td><td> 91  </td><td>4.43 </td><td>2.140</td><td>16.70</td><td>0    </td><td>1    </td><td>5    </td><td>2    </td></tr>\n",
       "\t<tr><th scope=row>Lotus Europa</th><td>30.4 </td><td>4    </td><td> 95.1</td><td>113  </td><td>3.77 </td><td>1.513</td><td>16.90</td><td>1    </td><td>1    </td><td>5    </td><td>2    </td></tr>\n",
       "\t<tr><th scope=row>Ford Pantera L</th><td>15.8 </td><td>8    </td><td>351.0</td><td>264  </td><td>4.22 </td><td>3.170</td><td>14.50</td><td>0    </td><td>1    </td><td>5    </td><td>4    </td></tr>\n",
       "\t<tr><th scope=row>Ferrari Dino</th><td>19.7 </td><td>6    </td><td>145.0</td><td>175  </td><td>3.62 </td><td>2.770</td><td>15.50</td><td>0    </td><td>1    </td><td>5    </td><td>6    </td></tr>\n",
       "\t<tr><th scope=row>Maserati Bora</th><td>15.0 </td><td>8    </td><td>301.0</td><td>335  </td><td>3.54 </td><td>3.570</td><td>14.60</td><td>0    </td><td>1    </td><td>5    </td><td>8    </td></tr>\n",
       "\t<tr><th scope=row>Volvo 142E</th><td>21.4 </td><td>4    </td><td>121.0</td><td>109  </td><td>4.11 </td><td>2.780</td><td>18.60</td><td>1    </td><td>1    </td><td>4    </td><td>2    </td></tr>\n",
       "</tbody>\n",
       "</table>\n"
      ],
      "text/latex": [
       "\\begin{tabular}{r|lllllllllll}\n",
       "  & mpg & cyl & disp & hp & drat & wt & qsec & vs & am & gear & carb\\\\\n",
       "\\hline\n",
       "\tMazda RX4 & 24.0  & 6     & 160.0 & 110   & 3.90  & 2.620 & 16.46 & 0     & 1     & 4     & 4    \\\\\n",
       "\tMazda RX4 Wag & 24.0  & 6     & 160.0 & 110   & 3.90  & 2.875 & 17.02 & 0     & 1     & 4     & 4    \\\\\n",
       "\tDatsun 710 & 25.8  & 4     & 108.0 &  93   & 3.85  & 2.320 & 18.61 & 1     & 1     & 4     & 1    \\\\\n",
       "\tHornet 4 Drive & 24.4  & 6     & 258.0 & 110   & 3.08  & 3.215 & 19.44 & 1     & 0     & 3     & 1    \\\\\n",
       "\tHornet Sportabout & 21.7  & 8     & 360.0 & 175   & 3.15  & 3.440 & 17.02 & 0     & 0     & 3     & 2    \\\\\n",
       "\tValiant & 18.1  & 6     & 225.0 & 105   & 2.76  & 3.460 & 20.22 & 1     & 0     & 3     & 1    \\\\\n",
       "\tDuster 360 & 14.3  & 8     & 360.0 & 245   & 3.21  & 3.570 & 15.84 & 0     & 0     & 3     & 4    \\\\\n",
       "\tMerc 240D & 24.4  & 4     & 146.7 &  62   & 3.69  & 3.190 & 20.00 & 1     & 0     & 4     & 2    \\\\\n",
       "\tMerc 230 & 22.8  & 4     & 140.8 &  95   & 3.92  & 3.150 & 22.90 & 1     & 0     & 4     & 2    \\\\\n",
       "\tMerc 280 & 19.2  & 6     & 167.6 & 123   & 3.92  & 3.440 & 18.30 & 1     & 0     & 4     & 4    \\\\\n",
       "\tMerc 280C & 17.8  & 6     & 167.6 & 123   & 3.92  & 3.440 & 18.90 & 1     & 0     & 4     & 4    \\\\\n",
       "\tMerc 450SE & 16.4  & 8     & 275.8 & 180   & 3.07  & 4.070 & 17.40 & 0     & 0     & 3     & 3    \\\\\n",
       "\tMerc 450SL & 17.3  & 8     & 275.8 & 180   & 3.07  & 3.730 & 17.60 & 0     & 0     & 3     & 3    \\\\\n",
       "\tMerc 450SLC & 15.2  & 8     & 275.8 & 180   & 3.07  & 3.780 & 18.00 & 0     & 0     & 3     & 3    \\\\\n",
       "\tCadillac Fleetwood & 10.4  & 8     & 472.0 & 205   & 2.93  & 5.250 & 17.98 & 0     & 0     & 3     & 4    \\\\\n",
       "\tLincoln Continental & 10.4  & 8     & 460.0 & 215   & 3.00  & 5.424 & 17.82 & 0     & 0     & 3     & 4    \\\\\n",
       "\tChrysler Imperial & 14.7  & 8     & 440.0 & 230   & 3.23  & 5.345 & 17.42 & 0     & 0     & 3     & 4    \\\\\n",
       "\tFiat 128 & 32.4  & 4     &  78.7 &  66   & 4.08  & 2.200 & 19.47 & 1     & 1     & 4     & 1    \\\\\n",
       "\tHonda Civic & 30.4  & 4     &  75.7 &  52   & 4.93  & 1.615 & 18.52 & 1     & 1     & 4     & 2    \\\\\n",
       "\tToyota Corolla & 33.9  & 4     &  71.1 &  65   & 4.22  & 1.835 & 19.90 & 1     & 1     & 4     & 1    \\\\\n",
       "\tToyota Corona & 21.5  & 4     & 120.1 &  97   & 3.70  & 2.465 & 20.01 & 1     & 0     & 3     & 1    \\\\\n",
       "\tDodge Challenger & 15.5  & 8     & 318.0 & 150   & 2.76  & 3.520 & 16.87 & 0     & 0     & 3     & 2    \\\\\n",
       "\tAMC Javelin & 15.2  & 8     & 304.0 & 150   & 3.15  & 3.435 & 17.30 & 0     & 0     & 3     & 2    \\\\\n",
       "\tCamaro Z28 & 13.3  & 8     & 350.0 & 245   & 3.73  & 3.840 & 15.41 & 0     & 0     & 3     & 4    \\\\\n",
       "\tPontiac Firebird & 19.2  & 8     & 400.0 & 175   & 3.08  & 3.845 & 17.05 & 0     & 0     & 3     & 2    \\\\\n",
       "\tFiat X1-9 & 27.3  & 4     &  79.0 &  66   & 4.08  & 1.935 & 18.90 & 1     & 1     & 4     & 1    \\\\\n",
       "\tPorsche 914-2 & 26.0  & 4     & 120.3 &  91   & 4.43  & 2.140 & 16.70 & 0     & 1     & 5     & 2    \\\\\n",
       "\tLotus Europa & 30.4  & 4     &  95.1 & 113   & 3.77  & 1.513 & 16.90 & 1     & 1     & 5     & 2    \\\\\n",
       "\tFord Pantera L & 15.8  & 8     & 351.0 & 264   & 4.22  & 3.170 & 14.50 & 0     & 1     & 5     & 4    \\\\\n",
       "\tFerrari Dino & 19.7  & 6     & 145.0 & 175   & 3.62  & 2.770 & 15.50 & 0     & 1     & 5     & 6    \\\\\n",
       "\tMaserati Bora & 15.0  & 8     & 301.0 & 335   & 3.54  & 3.570 & 14.60 & 0     & 1     & 5     & 8    \\\\\n",
       "\tVolvo 142E & 21.4  & 4     & 121.0 & 109   & 4.11  & 2.780 & 18.60 & 1     & 1     & 4     & 2    \\\\\n",
       "\\end{tabular}\n"
      ],
      "text/markdown": [
       "\n",
       "| <!--/--> | mpg | cyl | disp | hp | drat | wt | qsec | vs | am | gear | carb |\n",
       "|---|---|---|---|---|---|---|---|---|---|---|---|\n",
       "| Mazda RX4 | 24.0  | 6     | 160.0 | 110   | 3.90  | 2.620 | 16.46 | 0     | 1     | 4     | 4     |\n",
       "| Mazda RX4 Wag | 24.0  | 6     | 160.0 | 110   | 3.90  | 2.875 | 17.02 | 0     | 1     | 4     | 4     |\n",
       "| Datsun 710 | 25.8  | 4     | 108.0 |  93   | 3.85  | 2.320 | 18.61 | 1     | 1     | 4     | 1     |\n",
       "| Hornet 4 Drive | 24.4  | 6     | 258.0 | 110   | 3.08  | 3.215 | 19.44 | 1     | 0     | 3     | 1     |\n",
       "| Hornet Sportabout | 21.7  | 8     | 360.0 | 175   | 3.15  | 3.440 | 17.02 | 0     | 0     | 3     | 2     |\n",
       "| Valiant | 18.1  | 6     | 225.0 | 105   | 2.76  | 3.460 | 20.22 | 1     | 0     | 3     | 1     |\n",
       "| Duster 360 | 14.3  | 8     | 360.0 | 245   | 3.21  | 3.570 | 15.84 | 0     | 0     | 3     | 4     |\n",
       "| Merc 240D | 24.4  | 4     | 146.7 |  62   | 3.69  | 3.190 | 20.00 | 1     | 0     | 4     | 2     |\n",
       "| Merc 230 | 22.8  | 4     | 140.8 |  95   | 3.92  | 3.150 | 22.90 | 1     | 0     | 4     | 2     |\n",
       "| Merc 280 | 19.2  | 6     | 167.6 | 123   | 3.92  | 3.440 | 18.30 | 1     | 0     | 4     | 4     |\n",
       "| Merc 280C | 17.8  | 6     | 167.6 | 123   | 3.92  | 3.440 | 18.90 | 1     | 0     | 4     | 4     |\n",
       "| Merc 450SE | 16.4  | 8     | 275.8 | 180   | 3.07  | 4.070 | 17.40 | 0     | 0     | 3     | 3     |\n",
       "| Merc 450SL | 17.3  | 8     | 275.8 | 180   | 3.07  | 3.730 | 17.60 | 0     | 0     | 3     | 3     |\n",
       "| Merc 450SLC | 15.2  | 8     | 275.8 | 180   | 3.07  | 3.780 | 18.00 | 0     | 0     | 3     | 3     |\n",
       "| Cadillac Fleetwood | 10.4  | 8     | 472.0 | 205   | 2.93  | 5.250 | 17.98 | 0     | 0     | 3     | 4     |\n",
       "| Lincoln Continental | 10.4  | 8     | 460.0 | 215   | 3.00  | 5.424 | 17.82 | 0     | 0     | 3     | 4     |\n",
       "| Chrysler Imperial | 14.7  | 8     | 440.0 | 230   | 3.23  | 5.345 | 17.42 | 0     | 0     | 3     | 4     |\n",
       "| Fiat 128 | 32.4  | 4     |  78.7 |  66   | 4.08  | 2.200 | 19.47 | 1     | 1     | 4     | 1     |\n",
       "| Honda Civic | 30.4  | 4     |  75.7 |  52   | 4.93  | 1.615 | 18.52 | 1     | 1     | 4     | 2     |\n",
       "| Toyota Corolla | 33.9  | 4     |  71.1 |  65   | 4.22  | 1.835 | 19.90 | 1     | 1     | 4     | 1     |\n",
       "| Toyota Corona | 21.5  | 4     | 120.1 |  97   | 3.70  | 2.465 | 20.01 | 1     | 0     | 3     | 1     |\n",
       "| Dodge Challenger | 15.5  | 8     | 318.0 | 150   | 2.76  | 3.520 | 16.87 | 0     | 0     | 3     | 2     |\n",
       "| AMC Javelin | 15.2  | 8     | 304.0 | 150   | 3.15  | 3.435 | 17.30 | 0     | 0     | 3     | 2     |\n",
       "| Camaro Z28 | 13.3  | 8     | 350.0 | 245   | 3.73  | 3.840 | 15.41 | 0     | 0     | 3     | 4     |\n",
       "| Pontiac Firebird | 19.2  | 8     | 400.0 | 175   | 3.08  | 3.845 | 17.05 | 0     | 0     | 3     | 2     |\n",
       "| Fiat X1-9 | 27.3  | 4     |  79.0 |  66   | 4.08  | 1.935 | 18.90 | 1     | 1     | 4     | 1     |\n",
       "| Porsche 914-2 | 26.0  | 4     | 120.3 |  91   | 4.43  | 2.140 | 16.70 | 0     | 1     | 5     | 2     |\n",
       "| Lotus Europa | 30.4  | 4     |  95.1 | 113   | 3.77  | 1.513 | 16.90 | 1     | 1     | 5     | 2     |\n",
       "| Ford Pantera L | 15.8  | 8     | 351.0 | 264   | 4.22  | 3.170 | 14.50 | 0     | 1     | 5     | 4     |\n",
       "| Ferrari Dino | 19.7  | 6     | 145.0 | 175   | 3.62  | 2.770 | 15.50 | 0     | 1     | 5     | 6     |\n",
       "| Maserati Bora | 15.0  | 8     | 301.0 | 335   | 3.54  | 3.570 | 14.60 | 0     | 1     | 5     | 8     |\n",
       "| Volvo 142E | 21.4  | 4     | 121.0 | 109   | 4.11  | 2.780 | 18.60 | 1     | 1     | 4     | 2     |\n",
       "\n"
      ],
      "text/plain": [
       "                    mpg  cyl disp  hp  drat wt    qsec  vs am gear carb\n",
       "Mazda RX4           24.0 6   160.0 110 3.90 2.620 16.46 0  1  4    4   \n",
       "Mazda RX4 Wag       24.0 6   160.0 110 3.90 2.875 17.02 0  1  4    4   \n",
       "Datsun 710          25.8 4   108.0  93 3.85 2.320 18.61 1  1  4    1   \n",
       "Hornet 4 Drive      24.4 6   258.0 110 3.08 3.215 19.44 1  0  3    1   \n",
       "Hornet Sportabout   21.7 8   360.0 175 3.15 3.440 17.02 0  0  3    2   \n",
       "Valiant             18.1 6   225.0 105 2.76 3.460 20.22 1  0  3    1   \n",
       "Duster 360          14.3 8   360.0 245 3.21 3.570 15.84 0  0  3    4   \n",
       "Merc 240D           24.4 4   146.7  62 3.69 3.190 20.00 1  0  4    2   \n",
       "Merc 230            22.8 4   140.8  95 3.92 3.150 22.90 1  0  4    2   \n",
       "Merc 280            19.2 6   167.6 123 3.92 3.440 18.30 1  0  4    4   \n",
       "Merc 280C           17.8 6   167.6 123 3.92 3.440 18.90 1  0  4    4   \n",
       "Merc 450SE          16.4 8   275.8 180 3.07 4.070 17.40 0  0  3    3   \n",
       "Merc 450SL          17.3 8   275.8 180 3.07 3.730 17.60 0  0  3    3   \n",
       "Merc 450SLC         15.2 8   275.8 180 3.07 3.780 18.00 0  0  3    3   \n",
       "Cadillac Fleetwood  10.4 8   472.0 205 2.93 5.250 17.98 0  0  3    4   \n",
       "Lincoln Continental 10.4 8   460.0 215 3.00 5.424 17.82 0  0  3    4   \n",
       "Chrysler Imperial   14.7 8   440.0 230 3.23 5.345 17.42 0  0  3    4   \n",
       "Fiat 128            32.4 4    78.7  66 4.08 2.200 19.47 1  1  4    1   \n",
       "Honda Civic         30.4 4    75.7  52 4.93 1.615 18.52 1  1  4    2   \n",
       "Toyota Corolla      33.9 4    71.1  65 4.22 1.835 19.90 1  1  4    1   \n",
       "Toyota Corona       21.5 4   120.1  97 3.70 2.465 20.01 1  0  3    1   \n",
       "Dodge Challenger    15.5 8   318.0 150 2.76 3.520 16.87 0  0  3    2   \n",
       "AMC Javelin         15.2 8   304.0 150 3.15 3.435 17.30 0  0  3    2   \n",
       "Camaro Z28          13.3 8   350.0 245 3.73 3.840 15.41 0  0  3    4   \n",
       "Pontiac Firebird    19.2 8   400.0 175 3.08 3.845 17.05 0  0  3    2   \n",
       "Fiat X1-9           27.3 4    79.0  66 4.08 1.935 18.90 1  1  4    1   \n",
       "Porsche 914-2       26.0 4   120.3  91 4.43 2.140 16.70 0  1  5    2   \n",
       "Lotus Europa        30.4 4    95.1 113 3.77 1.513 16.90 1  1  5    2   \n",
       "Ford Pantera L      15.8 8   351.0 264 4.22 3.170 14.50 0  1  5    4   \n",
       "Ferrari Dino        19.7 6   145.0 175 3.62 2.770 15.50 0  1  5    6   \n",
       "Maserati Bora       15.0 8   301.0 335 3.54 3.570 14.60 0  1  5    8   \n",
       "Volvo 142E          21.4 4   121.0 109 4.11 2.780 18.60 1  1  4    2   "
      ]
     },
     "metadata": {},
     "output_type": "display_data"
    }
   ],
   "source": [
    "# for(idx in 1:5){\n",
    "#     X[idx] = X[idx]+1\n",
    "# }\n",
    "# X"
   ]
  },
  {
   "cell_type": "code",
   "execution_count": 125,
   "metadata": {},
   "outputs": [
    {
     "data": {
      "text/html": [
       "<ol class=list-inline>\n",
       "\t<li>32</li>\n",
       "\t<li>11</li>\n",
       "</ol>\n"
      ],
      "text/latex": [
       "\\begin{enumerate*}\n",
       "\\item 32\n",
       "\\item 11\n",
       "\\end{enumerate*}\n"
      ],
      "text/markdown": [
       "1. 32\n",
       "2. 11\n",
       "\n",
       "\n"
      ],
      "text/plain": [
       "[1] 32 11"
      ]
     },
     "metadata": {},
     "output_type": "display_data"
    }
   ],
   "source": [
    "p = dim(X)\n",
    "p\n",
    "cov_mat = matrix(, nrow = p[2], ncol = p[2])"
   ]
  },
  {
   "cell_type": "code",
   "execution_count": 126,
   "metadata": {},
   "outputs": [],
   "source": [
    "n = nrow(X)\n",
    "p = ncol(X)\n",
    "\n",
    "for( i in 1:p){\n",
    "    for ( j in 1:p){\n",
    "        cov_mat[i,j] = sum((X[,i]-mean(X[,i]))*(X[,j]-mean(X[,j])))/(n-1)\n",
    "    }\n",
    "}"
   ]
  },
  {
   "cell_type": "code",
   "execution_count": 110,
   "metadata": {},
   "outputs": [
    {
     "data": {
      "text/html": [
       "<table>\n",
       "<tbody>\n",
       "\t<tr><td>  36.324103 </td><td> -9.1723790 </td><td> -633.09721 </td><td>-320.732056 </td><td>  2.19506351</td><td> -5.1166847 </td><td>  4.50914919</td><td>  2.01713710</td><td>  1.80393145</td><td>  2.1356855 </td><td>-5.36310484 </td></tr>\n",
       "\t<tr><td>  -9.172379 </td><td>  3.1895161 </td><td>  199.66028 </td><td> 101.931452 </td><td> -0.66836694</td><td>  1.3673710 </td><td> -1.88685484</td><td> -0.72983871</td><td> -0.46572581</td><td> -0.6491935 </td><td> 1.52016129 </td></tr>\n",
       "\t<tr><td>-633.097208 </td><td>199.6602823 </td><td>15360.79983 </td><td>6721.158669 </td><td>-47.06401915</td><td>107.6842040 </td><td>-96.05168145</td><td>-44.37762097</td><td>-36.56401210</td><td>-50.8026210 </td><td>79.06875000 </td></tr>\n",
       "\t<tr><td>-320.732056 </td><td>101.9314516 </td><td> 6721.15867 </td><td>4700.866935 </td><td>-16.45110887</td><td> 44.1926613 </td><td>-86.77008065</td><td>-24.98790323</td><td> -8.32056452</td><td> -6.3588710 </td><td>83.03629032 </td></tr>\n",
       "\t<tr><td>   2.195064 </td><td> -0.6683669 </td><td>  -47.06402 </td><td> -16.451109 </td><td>  0.28588135</td><td> -0.3727207 </td><td>  0.08714073</td><td>  0.11864919</td><td>  0.19015121</td><td>  0.2759879 </td><td>-0.07840726 </td></tr>\n",
       "\t<tr><td>  -5.116685 </td><td>  1.3673710 </td><td>  107.68420 </td><td>  44.192661 </td><td> -0.37272073</td><td>  0.9573790 </td><td> -0.30548161</td><td> -0.27366129</td><td> -0.33810484</td><td> -0.4210806 </td><td> 0.67579032 </td></tr>\n",
       "\t<tr><td>   4.509149 </td><td> -1.8868548 </td><td>  -96.05168 </td><td> -86.770081 </td><td>  0.08714073</td><td> -0.3054816 </td><td>  3.19316613</td><td>  0.67056452</td><td> -0.20495968</td><td> -0.2804032 </td><td>-1.89411290 </td></tr>\n",
       "\t<tr><td>   2.017137 </td><td> -0.7298387 </td><td>  -44.37762 </td><td> -24.987903 </td><td>  0.11864919</td><td> -0.2736613 </td><td>  0.67056452</td><td>  0.25403226</td><td>  0.04233871</td><td>  0.0766129 </td><td>-0.46370968 </td></tr>\n",
       "\t<tr><td>   1.803931 </td><td> -0.4657258 </td><td>  -36.56401 </td><td>  -8.320565 </td><td>  0.19015121</td><td> -0.3381048 </td><td> -0.20495968</td><td>  0.04233871</td><td>  0.24899194</td><td>  0.2923387 </td><td> 0.04637097 </td></tr>\n",
       "\t<tr><td>   2.135685 </td><td> -0.6491935 </td><td>  -50.80262 </td><td>  -6.358871 </td><td>  0.27598790</td><td> -0.4210806 </td><td> -0.28040323</td><td>  0.07661290</td><td>  0.29233871</td><td>  0.5443548 </td><td> 0.32661290 </td></tr>\n",
       "\t<tr><td>  -5.363105 </td><td>  1.5201613 </td><td>   79.06875 </td><td>  83.036290 </td><td> -0.07840726</td><td>  0.6757903 </td><td> -1.89411290</td><td> -0.46370968</td><td>  0.04637097</td><td>  0.3266129 </td><td> 2.60887097 </td></tr>\n",
       "</tbody>\n",
       "</table>\n"
      ],
      "text/latex": [
       "\\begin{tabular}{lllllllllll}\n",
       "\t   36.324103  &  -9.1723790  &  -633.09721  & -320.732056  &   2.19506351 &  -5.1166847  &   4.50914919 &   2.01713710 &   1.80393145 &   2.1356855  & -5.36310484 \\\\\n",
       "\t   -9.172379  &   3.1895161  &   199.66028  &  101.931452  &  -0.66836694 &   1.3673710  &  -1.88685484 &  -0.72983871 &  -0.46572581 &  -0.6491935  &  1.52016129 \\\\\n",
       "\t -633.097208  & 199.6602823  & 15360.79983  & 6721.158669  & -47.06401915 & 107.6842040  & -96.05168145 & -44.37762097 & -36.56401210 & -50.8026210  & 79.06875000 \\\\\n",
       "\t -320.732056  & 101.9314516  &  6721.15867  & 4700.866935  & -16.45110887 &  44.1926613  & -86.77008065 & -24.98790323 &  -8.32056452 &  -6.3588710  & 83.03629032 \\\\\n",
       "\t    2.195064  &  -0.6683669  &   -47.06402  &  -16.451109  &   0.28588135 &  -0.3727207  &   0.08714073 &   0.11864919 &   0.19015121 &   0.2759879  & -0.07840726 \\\\\n",
       "\t   -5.116685  &   1.3673710  &   107.68420  &   44.192661  &  -0.37272073 &   0.9573790  &  -0.30548161 &  -0.27366129 &  -0.33810484 &  -0.4210806  &  0.67579032 \\\\\n",
       "\t    4.509149  &  -1.8868548  &   -96.05168  &  -86.770081  &   0.08714073 &  -0.3054816  &   3.19316613 &   0.67056452 &  -0.20495968 &  -0.2804032  & -1.89411290 \\\\\n",
       "\t    2.017137  &  -0.7298387  &   -44.37762  &  -24.987903  &   0.11864919 &  -0.2736613  &   0.67056452 &   0.25403226 &   0.04233871 &   0.0766129  & -0.46370968 \\\\\n",
       "\t    1.803931  &  -0.4657258  &   -36.56401  &   -8.320565  &   0.19015121 &  -0.3381048  &  -0.20495968 &   0.04233871 &   0.24899194 &   0.2923387  &  0.04637097 \\\\\n",
       "\t    2.135685  &  -0.6491935  &   -50.80262  &   -6.358871  &   0.27598790 &  -0.4210806  &  -0.28040323 &   0.07661290 &   0.29233871 &   0.5443548  &  0.32661290 \\\\\n",
       "\t   -5.363105  &   1.5201613  &    79.06875  &   83.036290  &  -0.07840726 &   0.6757903  &  -1.89411290 &  -0.46370968 &   0.04637097 &   0.3266129  &  2.60887097 \\\\\n",
       "\\end{tabular}\n"
      ],
      "text/markdown": [
       "\n",
       "|   36.324103  |  -9.1723790  |  -633.09721  | -320.732056  |   2.19506351 |  -5.1166847  |   4.50914919 |   2.01713710 |   1.80393145 |   2.1356855  | -5.36310484  |\n",
       "|   -9.172379  |   3.1895161  |   199.66028  |  101.931452  |  -0.66836694 |   1.3673710  |  -1.88685484 |  -0.72983871 |  -0.46572581 |  -0.6491935  |  1.52016129  |\n",
       "| -633.097208  | 199.6602823  | 15360.79983  | 6721.158669  | -47.06401915 | 107.6842040  | -96.05168145 | -44.37762097 | -36.56401210 | -50.8026210  | 79.06875000  |\n",
       "| -320.732056  | 101.9314516  |  6721.15867  | 4700.866935  | -16.45110887 |  44.1926613  | -86.77008065 | -24.98790323 |  -8.32056452 |  -6.3588710  | 83.03629032  |\n",
       "|    2.195064  |  -0.6683669  |   -47.06402  |  -16.451109  |   0.28588135 |  -0.3727207  |   0.08714073 |   0.11864919 |   0.19015121 |   0.2759879  | -0.07840726  |\n",
       "|   -5.116685  |   1.3673710  |   107.68420  |   44.192661  |  -0.37272073 |   0.9573790  |  -0.30548161 |  -0.27366129 |  -0.33810484 |  -0.4210806  |  0.67579032  |\n",
       "|    4.509149  |  -1.8868548  |   -96.05168  |  -86.770081  |   0.08714073 |  -0.3054816  |   3.19316613 |   0.67056452 |  -0.20495968 |  -0.2804032  | -1.89411290  |\n",
       "|    2.017137  |  -0.7298387  |   -44.37762  |  -24.987903  |   0.11864919 |  -0.2736613  |   0.67056452 |   0.25403226 |   0.04233871 |   0.0766129  | -0.46370968  |\n",
       "|    1.803931  |  -0.4657258  |   -36.56401  |   -8.320565  |   0.19015121 |  -0.3381048  |  -0.20495968 |   0.04233871 |   0.24899194 |   0.2923387  |  0.04637097  |\n",
       "|    2.135685  |  -0.6491935  |   -50.80262  |   -6.358871  |   0.27598790 |  -0.4210806  |  -0.28040323 |   0.07661290 |   0.29233871 |   0.5443548  |  0.32661290  |\n",
       "|   -5.363105  |   1.5201613  |    79.06875  |   83.036290  |  -0.07840726 |   0.6757903  |  -1.89411290 |  -0.46370968 |   0.04637097 |   0.3266129  |  2.60887097  |\n",
       "\n"
      ],
      "text/plain": [
       "      [,1]        [,2]        [,3]        [,4]        [,5]         [,6]       \n",
       " [1,]   36.324103  -9.1723790  -633.09721 -320.732056   2.19506351  -5.1166847\n",
       " [2,]   -9.172379   3.1895161   199.66028  101.931452  -0.66836694   1.3673710\n",
       " [3,] -633.097208 199.6602823 15360.79983 6721.158669 -47.06401915 107.6842040\n",
       " [4,] -320.732056 101.9314516  6721.15867 4700.866935 -16.45110887  44.1926613\n",
       " [5,]    2.195064  -0.6683669   -47.06402  -16.451109   0.28588135  -0.3727207\n",
       " [6,]   -5.116685   1.3673710   107.68420   44.192661  -0.37272073   0.9573790\n",
       " [7,]    4.509149  -1.8868548   -96.05168  -86.770081   0.08714073  -0.3054816\n",
       " [8,]    2.017137  -0.7298387   -44.37762  -24.987903   0.11864919  -0.2736613\n",
       " [9,]    1.803931  -0.4657258   -36.56401   -8.320565   0.19015121  -0.3381048\n",
       "[10,]    2.135685  -0.6491935   -50.80262   -6.358871   0.27598790  -0.4210806\n",
       "[11,]   -5.363105   1.5201613    79.06875   83.036290  -0.07840726   0.6757903\n",
       "      [,7]         [,8]         [,9]         [,10]       [,11]      \n",
       " [1,]   4.50914919   2.01713710   1.80393145   2.1356855 -5.36310484\n",
       " [2,]  -1.88685484  -0.72983871  -0.46572581  -0.6491935  1.52016129\n",
       " [3,] -96.05168145 -44.37762097 -36.56401210 -50.8026210 79.06875000\n",
       " [4,] -86.77008065 -24.98790323  -8.32056452  -6.3588710 83.03629032\n",
       " [5,]   0.08714073   0.11864919   0.19015121   0.2759879 -0.07840726\n",
       " [6,]  -0.30548161  -0.27366129  -0.33810484  -0.4210806  0.67579032\n",
       " [7,]   3.19316613   0.67056452  -0.20495968  -0.2804032 -1.89411290\n",
       " [8,]   0.67056452   0.25403226   0.04233871   0.0766129 -0.46370968\n",
       " [9,]  -0.20495968   0.04233871   0.24899194   0.2923387  0.04637097\n",
       "[10,]  -0.28040323   0.07661290   0.29233871   0.5443548  0.32661290\n",
       "[11,]  -1.89411290  -0.46370968   0.04637097   0.3266129  2.60887097"
      ]
     },
     "metadata": {},
     "output_type": "display_data"
    }
   ],
   "source": [
    "cov_mat"
   ]
  },
  {
   "cell_type": "code",
   "execution_count": 111,
   "metadata": {},
   "outputs": [],
   "source": [
    "n = nrow(X)\n",
    "p = ncol(X)\n",
    "\n",
    "for( i in 1:p){\n",
    "    for ( j in 1:p){\n",
    "        cov_mat[i,j] = sum((X[,i]-mean(X[,i]))*(X[,j]-mean(X[,j])))/((n-1)*sd(X[,i])*sd(X[,j]))\n",
    "    }\n",
    "}"
   ]
  },
  {
   "cell_type": "code",
   "execution_count": 112,
   "metadata": {},
   "outputs": [
    {
     "data": {
      "text/html": [
       "<table>\n",
       "<tbody>\n",
       "\t<tr><td> 1.0000000 </td><td>-0.8521620 </td><td>-0.8475514 </td><td>-0.7761684 </td><td> 0.68117191</td><td>-0.8676594 </td><td> 0.41868403</td><td> 0.6640389 </td><td> 0.59983243</td><td> 0.4802848 </td><td>-0.55092507</td></tr>\n",
       "\t<tr><td>-0.8521620 </td><td> 1.0000000 </td><td> 0.9020329 </td><td> 0.8324475 </td><td>-0.69993811</td><td> 0.7824958 </td><td>-0.59124207</td><td>-0.8108118 </td><td>-0.52260705</td><td>-0.4926866 </td><td> 0.52698829</td></tr>\n",
       "\t<tr><td>-0.8475514 </td><td> 0.9020329 </td><td> 1.0000000 </td><td> 0.7909486 </td><td>-0.71021393</td><td> 0.8879799 </td><td>-0.43369788</td><td>-0.7104159 </td><td>-0.59122704</td><td>-0.5555692 </td><td> 0.39497686</td></tr>\n",
       "\t<tr><td>-0.7761684 </td><td> 0.8324475 </td><td> 0.7909486 </td><td> 1.0000000 </td><td>-0.44875912</td><td> 0.6587479 </td><td>-0.70822339</td><td>-0.7230967 </td><td>-0.24320426</td><td>-0.1257043 </td><td> 0.74981247</td></tr>\n",
       "\t<tr><td> 0.6811719 </td><td>-0.6999381 </td><td>-0.7102139 </td><td>-0.4487591 </td><td> 1.00000000</td><td>-0.7124406 </td><td> 0.09120476</td><td> 0.4402785 </td><td> 0.71271113</td><td> 0.6996101 </td><td>-0.09078980</td></tr>\n",
       "\t<tr><td>-0.8676594 </td><td> 0.7824958 </td><td> 0.8879799 </td><td> 0.6587479 </td><td>-0.71244065</td><td> 1.0000000 </td><td>-0.17471588</td><td>-0.5549157 </td><td>-0.69249526</td><td>-0.5832870 </td><td> 0.42760594</td></tr>\n",
       "\t<tr><td> 0.4186840 </td><td>-0.5912421 </td><td>-0.4336979 </td><td>-0.7082234 </td><td> 0.09120476</td><td>-0.1747159 </td><td> 1.00000000</td><td> 0.7445354 </td><td>-0.22986086</td><td>-0.2126822 </td><td>-0.65624923</td></tr>\n",
       "\t<tr><td> 0.6640389 </td><td>-0.8108118 </td><td>-0.7104159 </td><td>-0.7230967 </td><td> 0.44027846</td><td>-0.5549157 </td><td> 0.74453544</td><td> 1.0000000 </td><td> 0.16834512</td><td> 0.2060233 </td><td>-0.56960714</td></tr>\n",
       "\t<tr><td> 0.5998324 </td><td>-0.5226070 </td><td>-0.5912270 </td><td>-0.2432043 </td><td> 0.71271113</td><td>-0.6924953 </td><td>-0.22986086</td><td> 0.1683451 </td><td> 1.00000000</td><td> 0.7940588 </td><td> 0.05753435</td></tr>\n",
       "\t<tr><td> 0.4802848 </td><td>-0.4926866 </td><td>-0.5555692 </td><td>-0.1257043 </td><td> 0.69961013</td><td>-0.5832870 </td><td>-0.21268223</td><td> 0.2060233 </td><td> 0.79405876</td><td> 1.0000000 </td><td> 0.27407284</td></tr>\n",
       "\t<tr><td>-0.5509251 </td><td> 0.5269883 </td><td> 0.3949769 </td><td> 0.7498125 </td><td>-0.09078980</td><td> 0.4276059 </td><td>-0.65624923</td><td>-0.5696071 </td><td> 0.05753435</td><td> 0.2740728 </td><td> 1.00000000</td></tr>\n",
       "</tbody>\n",
       "</table>\n"
      ],
      "text/latex": [
       "\\begin{tabular}{lllllllllll}\n",
       "\t  1.0000000  & -0.8521620  & -0.8475514  & -0.7761684  &  0.68117191 & -0.8676594  &  0.41868403 &  0.6640389  &  0.59983243 &  0.4802848  & -0.55092507\\\\\n",
       "\t -0.8521620  &  1.0000000  &  0.9020329  &  0.8324475  & -0.69993811 &  0.7824958  & -0.59124207 & -0.8108118  & -0.52260705 & -0.4926866  &  0.52698829\\\\\n",
       "\t -0.8475514  &  0.9020329  &  1.0000000  &  0.7909486  & -0.71021393 &  0.8879799  & -0.43369788 & -0.7104159  & -0.59122704 & -0.5555692  &  0.39497686\\\\\n",
       "\t -0.7761684  &  0.8324475  &  0.7909486  &  1.0000000  & -0.44875912 &  0.6587479  & -0.70822339 & -0.7230967  & -0.24320426 & -0.1257043  &  0.74981247\\\\\n",
       "\t  0.6811719  & -0.6999381  & -0.7102139  & -0.4487591  &  1.00000000 & -0.7124406  &  0.09120476 &  0.4402785  &  0.71271113 &  0.6996101  & -0.09078980\\\\\n",
       "\t -0.8676594  &  0.7824958  &  0.8879799  &  0.6587479  & -0.71244065 &  1.0000000  & -0.17471588 & -0.5549157  & -0.69249526 & -0.5832870  &  0.42760594\\\\\n",
       "\t  0.4186840  & -0.5912421  & -0.4336979  & -0.7082234  &  0.09120476 & -0.1747159  &  1.00000000 &  0.7445354  & -0.22986086 & -0.2126822  & -0.65624923\\\\\n",
       "\t  0.6640389  & -0.8108118  & -0.7104159  & -0.7230967  &  0.44027846 & -0.5549157  &  0.74453544 &  1.0000000  &  0.16834512 &  0.2060233  & -0.56960714\\\\\n",
       "\t  0.5998324  & -0.5226070  & -0.5912270  & -0.2432043  &  0.71271113 & -0.6924953  & -0.22986086 &  0.1683451  &  1.00000000 &  0.7940588  &  0.05753435\\\\\n",
       "\t  0.4802848  & -0.4926866  & -0.5555692  & -0.1257043  &  0.69961013 & -0.5832870  & -0.21268223 &  0.2060233  &  0.79405876 &  1.0000000  &  0.27407284\\\\\n",
       "\t -0.5509251  &  0.5269883  &  0.3949769  &  0.7498125  & -0.09078980 &  0.4276059  & -0.65624923 & -0.5696071  &  0.05753435 &  0.2740728  &  1.00000000\\\\\n",
       "\\end{tabular}\n"
      ],
      "text/markdown": [
       "\n",
       "|  1.0000000  | -0.8521620  | -0.8475514  | -0.7761684  |  0.68117191 | -0.8676594  |  0.41868403 |  0.6640389  |  0.59983243 |  0.4802848  | -0.55092507 |\n",
       "| -0.8521620  |  1.0000000  |  0.9020329  |  0.8324475  | -0.69993811 |  0.7824958  | -0.59124207 | -0.8108118  | -0.52260705 | -0.4926866  |  0.52698829 |\n",
       "| -0.8475514  |  0.9020329  |  1.0000000  |  0.7909486  | -0.71021393 |  0.8879799  | -0.43369788 | -0.7104159  | -0.59122704 | -0.5555692  |  0.39497686 |\n",
       "| -0.7761684  |  0.8324475  |  0.7909486  |  1.0000000  | -0.44875912 |  0.6587479  | -0.70822339 | -0.7230967  | -0.24320426 | -0.1257043  |  0.74981247 |\n",
       "|  0.6811719  | -0.6999381  | -0.7102139  | -0.4487591  |  1.00000000 | -0.7124406  |  0.09120476 |  0.4402785  |  0.71271113 |  0.6996101  | -0.09078980 |\n",
       "| -0.8676594  |  0.7824958  |  0.8879799  |  0.6587479  | -0.71244065 |  1.0000000  | -0.17471588 | -0.5549157  | -0.69249526 | -0.5832870  |  0.42760594 |\n",
       "|  0.4186840  | -0.5912421  | -0.4336979  | -0.7082234  |  0.09120476 | -0.1747159  |  1.00000000 |  0.7445354  | -0.22986086 | -0.2126822  | -0.65624923 |\n",
       "|  0.6640389  | -0.8108118  | -0.7104159  | -0.7230967  |  0.44027846 | -0.5549157  |  0.74453544 |  1.0000000  |  0.16834512 |  0.2060233  | -0.56960714 |\n",
       "|  0.5998324  | -0.5226070  | -0.5912270  | -0.2432043  |  0.71271113 | -0.6924953  | -0.22986086 |  0.1683451  |  1.00000000 |  0.7940588  |  0.05753435 |\n",
       "|  0.4802848  | -0.4926866  | -0.5555692  | -0.1257043  |  0.69961013 | -0.5832870  | -0.21268223 |  0.2060233  |  0.79405876 |  1.0000000  |  0.27407284 |\n",
       "| -0.5509251  |  0.5269883  |  0.3949769  |  0.7498125  | -0.09078980 |  0.4276059  | -0.65624923 | -0.5696071  |  0.05753435 |  0.2740728  |  1.00000000 |\n",
       "\n"
      ],
      "text/plain": [
       "      [,1]       [,2]       [,3]       [,4]       [,5]        [,6]      \n",
       " [1,]  1.0000000 -0.8521620 -0.8475514 -0.7761684  0.68117191 -0.8676594\n",
       " [2,] -0.8521620  1.0000000  0.9020329  0.8324475 -0.69993811  0.7824958\n",
       " [3,] -0.8475514  0.9020329  1.0000000  0.7909486 -0.71021393  0.8879799\n",
       " [4,] -0.7761684  0.8324475  0.7909486  1.0000000 -0.44875912  0.6587479\n",
       " [5,]  0.6811719 -0.6999381 -0.7102139 -0.4487591  1.00000000 -0.7124406\n",
       " [6,] -0.8676594  0.7824958  0.8879799  0.6587479 -0.71244065  1.0000000\n",
       " [7,]  0.4186840 -0.5912421 -0.4336979 -0.7082234  0.09120476 -0.1747159\n",
       " [8,]  0.6640389 -0.8108118 -0.7104159 -0.7230967  0.44027846 -0.5549157\n",
       " [9,]  0.5998324 -0.5226070 -0.5912270 -0.2432043  0.71271113 -0.6924953\n",
       "[10,]  0.4802848 -0.4926866 -0.5555692 -0.1257043  0.69961013 -0.5832870\n",
       "[11,] -0.5509251  0.5269883  0.3949769  0.7498125 -0.09078980  0.4276059\n",
       "      [,7]        [,8]       [,9]        [,10]      [,11]      \n",
       " [1,]  0.41868403  0.6640389  0.59983243  0.4802848 -0.55092507\n",
       " [2,] -0.59124207 -0.8108118 -0.52260705 -0.4926866  0.52698829\n",
       " [3,] -0.43369788 -0.7104159 -0.59122704 -0.5555692  0.39497686\n",
       " [4,] -0.70822339 -0.7230967 -0.24320426 -0.1257043  0.74981247\n",
       " [5,]  0.09120476  0.4402785  0.71271113  0.6996101 -0.09078980\n",
       " [6,] -0.17471588 -0.5549157 -0.69249526 -0.5832870  0.42760594\n",
       " [7,]  1.00000000  0.7445354 -0.22986086 -0.2126822 -0.65624923\n",
       " [8,]  0.74453544  1.0000000  0.16834512  0.2060233 -0.56960714\n",
       " [9,] -0.22986086  0.1683451  1.00000000  0.7940588  0.05753435\n",
       "[10,] -0.21268223  0.2060233  0.79405876  1.0000000  0.27407284\n",
       "[11,] -0.65624923 -0.5696071  0.05753435  0.2740728  1.00000000"
      ]
     },
     "metadata": {},
     "output_type": "display_data"
    }
   ],
   "source": [
    "cov_mat"
   ]
  },
  {
   "cell_type": "code",
   "execution_count": 123,
   "metadata": {},
   "outputs": [
    {
     "data": {
      "image/png": "[encoded data removed]",
      "text/plain": [
       "plot without title"
      ]
     },
     "metadata": {},
     "output_type": "display_data"
    }
   ],
   "source": [
    "plot(X[,1],X[,2],sub=\"subtitle\",text(X[,1], X[,1],\"N\"), col=\"red\")"
   ]
  },
  {
   "cell_type": "code",
   "execution_count": 127,
   "metadata": {},
   "outputs": [
    {
     "data": {
      "image/png": "[encoded data removed]",
      "text/plain": [
       "plot without title"
      ]
     },
     "metadata": {},
     "output_type": "display_data"
    }
   ],
   "source": [
    "plot(cov_mat[,1],cov_mat[,2])"
   ]
  },
  {
   "cell_type": "code",
   "execution_count": null,
   "metadata": {},
   "outputs": [],
   "source": []
  }
 ],
 "metadata": {
  "colab": {
   "collapsed_sections": [],
   "name": "RNotebook_Jan9Thu2020.ipynb",
   "provenance": []
  },
  "kernelspec": {
   "display_name": "R",
   "language": "R",
   "name": "ir"
  },
  "language_info": {
   "codemirror_mode": "r",
   "file_extension": ".r",
   "mimetype": "text/x-r-source",
   "name": "R",
   "pygments_lexer": "r",
   "version": "3.6.1"
  }
 },
 "nbformat": 4,
 "nbformat_minor": 1
}
